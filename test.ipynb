{
 "cells": [
  {
   "cell_type": "code",
   "execution_count": 1,
   "id": "7e2ef60b",
   "metadata": {},
   "outputs": [],
   "source": [
    "import pandas as pd"
   ]
  },
  {
   "cell_type": "code",
   "execution_count": null,
   "id": "d334867f",
   "metadata": {},
   "outputs": [
    {
     "name": "stdout",
     "output_type": "stream",
     "text": [
      "WARNING *** file size (5422976) not 512 + multiple of sector size (512)\n"
     ]
    }
   ],
   "source": [
    "new_inv = pd.read_excel('inv_data\\BY_InventoryListAll.xls', skiprows=3)\n",
    "\n"
   ]
  },
  {
   "cell_type": "code",
   "execution_count": 8,
   "id": "7f2477eb",
   "metadata": {},
   "outputs": [],
   "source": [
    "column_list = list(new_inv.columns)\n",
    "comp_name = 'BY'\n",
    "itemlookupcode = 'Barcode'\n",
    "\n",
    "# Select Company Inventory column\n",
    "comp_inv = 'O/H'\n",
    "\n",
    "# Select Description column\n",
    "description = 'Item Name'\n",
    "\n",
    "# Select Extended Description column\n",
    "ext_desc = 'Color'"
   ]
  },
  {
   "cell_type": "code",
   "execution_count": 12,
   "id": "27a5b3b4",
   "metadata": {},
   "outputs": [],
   "source": [
    "new_inv = new_inv[[itemlookupcode, comp_inv, description, ext_desc]]\n",
    "# 842045006254\n",
    "\n",
    "new_inv.insert(0, 'Company', comp_name)"
   ]
  },
  {
   "cell_type": "code",
   "execution_count": 13,
   "id": "a444caa7",
   "metadata": {},
   "outputs": [
    {
     "data": {
      "application/vnd.microsoft.datawrangler.viewer.v0+json": {
       "columns": [
        {
         "name": "index",
         "rawType": "int64",
         "type": "integer"
        },
        {
         "name": "Company",
         "rawType": "object",
         "type": "string"
        },
        {
         "name": "Barcode",
         "rawType": "object",
         "type": "unknown"
        },
        {
         "name": "O/H",
         "rawType": "int64",
         "type": "integer"
        },
        {
         "name": "Item Name",
         "rawType": "object",
         "type": "string"
        },
        {
         "name": "Color",
         "rawType": "object",
         "type": "unknown"
        }
       ],
       "conversionMethod": "pd.DataFrame",
       "ref": "d3c87c94-d221-4c49-b8af-a0e29c9f565a",
       "rows": [
        [
         "0",
         "BY",
         "885160294489",
         "70",
         "134 CANNA",
         "1"
        ],
        [
         "1",
         "BY",
         "885160294496",
         "15",
         "134 CANNA",
         "1B"
        ],
        [
         "2",
         "BY",
         "885160294533",
         "0",
         "134 CANNA",
         "4N274"
        ],
        [
         "3",
         "BY",
         "885160294540",
         "0",
         "134 CANNA",
         "BT4007"
        ],
        [
         "4",
         "BY",
         "885160294502",
         "23",
         "134 CANNA",
         "F2842"
        ],
        [
         "5",
         "BY",
         "885160294557",
         "10",
         "134 CANNA",
         "SAND"
        ],
        [
         "6",
         "BY",
         "885160294564",
         "13",
         "134 CANNA",
         "SIENNA"
        ],
        [
         "7",
         "BY",
         "885160294571",
         "26",
         "134 CANNA",
         "SNOW"
        ],
        [
         "8",
         "BY",
         "885160294519",
         "29",
         "134 CANNA",
         "SP1B/30"
        ],
        [
         "9",
         "BY",
         "885160294526",
         "0",
         "134 CANNA",
         "SP430"
        ],
        [
         "10",
         "BY",
         "885160294588",
         "100",
         "134 DAYLILY",
         "1"
        ],
        [
         "11",
         "BY",
         "885160294595",
         "83",
         "134 DAYLILY",
         "1B"
        ],
        [
         "12",
         "BY",
         "885160294632",
         "6",
         "134 DAYLILY",
         "BT4007"
        ],
        [
         "13",
         "BY",
         "885160294601",
         "14",
         "134 DAYLILY",
         "COPPER BROWN"
        ],
        [
         "14",
         "BY",
         "885160294649",
         "0",
         "134 DAYLILY",
         "SAND"
        ],
        [
         "15",
         "BY",
         "885160294656",
         "0",
         "134 DAYLILY",
         "SIENNA"
        ],
        [
         "16",
         "BY",
         "885160294663",
         "14",
         "134 DAYLILY",
         "SNOW"
        ],
        [
         "17",
         "BY",
         "885160294618",
         "0",
         "134 DAYLILY",
         "SP1B/30"
        ],
        [
         "18",
         "BY",
         "885160294625",
         "0",
         "134 DAYLILY",
         "SP430"
        ],
        [
         "19",
         "BY",
         "885160296087",
         "101",
         "134 GLADI",
         "1"
        ],
        [
         "20",
         "BY",
         "885160296094",
         "103",
         "134 GLADI",
         "1B"
        ],
        [
         "21",
         "BY",
         "885160296148",
         "9",
         "134 GLADI",
         "4N274"
        ],
        [
         "22",
         "BY",
         "885160296155",
         "8",
         "134 GLADI",
         "BT4007"
        ],
        [
         "23",
         "BY",
         "885160296100",
         "23",
         "134 GLADI",
         "HM1B/30"
        ],
        [
         "24",
         "BY",
         "885160296162",
         "23",
         "134 GLADI",
         "SAND"
        ],
        [
         "25",
         "BY",
         "885160296179",
         "2",
         "134 GLADI",
         "SNOW"
        ],
        [
         "26",
         "BY",
         "885160296117",
         "23",
         "134 GLADI",
         "SP1B/30"
        ],
        [
         "27",
         "BY",
         "885160296124",
         "21",
         "134 GLADI",
         "SP1B/530"
        ],
        [
         "28",
         "BY",
         "885160296131",
         "14",
         "134 GLADI",
         "SP430"
        ],
        [
         "29",
         "BY",
         "885160297183",
         "91",
         "134 HAVEN",
         "1"
        ],
        [
         "30",
         "BY",
         "885160297190",
         "86",
         "134 HAVEN",
         "1B"
        ],
        [
         "31",
         "BY",
         "885160297275",
         "62",
         "134 HAVEN",
         "BT4007"
        ],
        [
         "32",
         "BY",
         "885160297206",
         "17",
         "134 HAVEN",
         "COPPER BROWN"
        ],
        [
         "33",
         "BY",
         "885160297213",
         "27",
         "134 HAVEN",
         "F2730"
        ],
        [
         "34",
         "BY",
         "885160297220",
         "27",
         "134 HAVEN",
         "F3240"
        ],
        [
         "35",
         "BY",
         "885160297237",
         "32",
         "134 HAVEN",
         "F3278"
        ],
        [
         "36",
         "BY",
         "885160297244",
         "72",
         "134 HAVEN",
         "SP1B/30"
        ],
        [
         "37",
         "BY",
         "885160297251",
         "35",
         "134 HAVEN",
         "SP1B/530"
        ],
        [
         "38",
         "BY",
         "885160297268",
         "30",
         "134 HAVEN",
         "SP430"
        ],
        [
         "39",
         "BY",
         "885160296186",
         "85",
         "134 HOSTA",
         "1"
        ],
        [
         "40",
         "BY",
         "885160296193",
         "86",
         "134 HOSTA",
         "1B"
        ],
        [
         "41",
         "BY",
         "885160296247",
         "0",
         "134 HOSTA",
         "4N274"
        ],
        [
         "42",
         "BY",
         "885160296254",
         "0",
         "134 HOSTA",
         "BT4007"
        ],
        [
         "43",
         "BY",
         "885160296209",
         "31",
         "134 HOSTA",
         "F2721"
        ],
        [
         "44",
         "BY",
         "885160296261",
         "0",
         "134 HOSTA",
         "SAND"
        ],
        [
         "45",
         "BY",
         "885160296278",
         "12",
         "134 HOSTA",
         "SNOW"
        ],
        [
         "46",
         "BY",
         "885160296216",
         "22",
         "134 HOSTA",
         "SP1B/30"
        ],
        [
         "47",
         "BY",
         "885160296223",
         "11",
         "134 HOSTA",
         "SP1B/530"
        ],
        [
         "48",
         "BY",
         "885160296230",
         "0",
         "134 HOSTA",
         "SP430"
        ],
        [
         "49",
         "BY",
         "885160296940",
         "11",
         "134 KELI",
         "1"
        ]
       ],
       "shape": {
        "columns": 5,
        "rows": 32656
       }
      },
      "text/html": [
       "<div>\n",
       "<style scoped>\n",
       "    .dataframe tbody tr th:only-of-type {\n",
       "        vertical-align: middle;\n",
       "    }\n",
       "\n",
       "    .dataframe tbody tr th {\n",
       "        vertical-align: top;\n",
       "    }\n",
       "\n",
       "    .dataframe thead th {\n",
       "        text-align: right;\n",
       "    }\n",
       "</style>\n",
       "<table border=\"1\" class=\"dataframe\">\n",
       "  <thead>\n",
       "    <tr style=\"text-align: right;\">\n",
       "      <th></th>\n",
       "      <th>Company</th>\n",
       "      <th>Barcode</th>\n",
       "      <th>O/H</th>\n",
       "      <th>Item Name</th>\n",
       "      <th>Color</th>\n",
       "    </tr>\n",
       "  </thead>\n",
       "  <tbody>\n",
       "    <tr>\n",
       "      <th>0</th>\n",
       "      <td>BY</td>\n",
       "      <td>885160294489</td>\n",
       "      <td>70</td>\n",
       "      <td>134 CANNA</td>\n",
       "      <td>1</td>\n",
       "    </tr>\n",
       "    <tr>\n",
       "      <th>1</th>\n",
       "      <td>BY</td>\n",
       "      <td>885160294496</td>\n",
       "      <td>15</td>\n",
       "      <td>134 CANNA</td>\n",
       "      <td>1B</td>\n",
       "    </tr>\n",
       "    <tr>\n",
       "      <th>2</th>\n",
       "      <td>BY</td>\n",
       "      <td>885160294533</td>\n",
       "      <td>0</td>\n",
       "      <td>134 CANNA</td>\n",
       "      <td>4N274</td>\n",
       "    </tr>\n",
       "    <tr>\n",
       "      <th>3</th>\n",
       "      <td>BY</td>\n",
       "      <td>885160294540</td>\n",
       "      <td>0</td>\n",
       "      <td>134 CANNA</td>\n",
       "      <td>BT4007</td>\n",
       "    </tr>\n",
       "    <tr>\n",
       "      <th>4</th>\n",
       "      <td>BY</td>\n",
       "      <td>885160294502</td>\n",
       "      <td>23</td>\n",
       "      <td>134 CANNA</td>\n",
       "      <td>F2842</td>\n",
       "    </tr>\n",
       "    <tr>\n",
       "      <th>...</th>\n",
       "      <td>...</td>\n",
       "      <td>...</td>\n",
       "      <td>...</td>\n",
       "      <td>...</td>\n",
       "      <td>...</td>\n",
       "    </tr>\n",
       "    <tr>\n",
       "      <th>32651</th>\n",
       "      <td>BY</td>\n",
       "      <td>885160246532</td>\n",
       "      <td>0</td>\n",
       "      <td>ZZR LOA</td>\n",
       "      <td>SNOW</td>\n",
       "    </tr>\n",
       "    <tr>\n",
       "      <th>32652</th>\n",
       "      <td>BY</td>\n",
       "      <td>885160246464</td>\n",
       "      <td>0</td>\n",
       "      <td>ZZR LOA</td>\n",
       "      <td>SP1B/30</td>\n",
       "    </tr>\n",
       "    <tr>\n",
       "      <th>32653</th>\n",
       "      <td>BY</td>\n",
       "      <td>885160252335</td>\n",
       "      <td>0</td>\n",
       "      <td>ZZR LOA</td>\n",
       "      <td>SP427</td>\n",
       "    </tr>\n",
       "    <tr>\n",
       "      <th>32654</th>\n",
       "      <td>BY</td>\n",
       "      <td>885160257224</td>\n",
       "      <td>0</td>\n",
       "      <td>ZZR LOA</td>\n",
       "      <td>SP430</td>\n",
       "    </tr>\n",
       "    <tr>\n",
       "      <th>32655</th>\n",
       "      <td>BY</td>\n",
       "      <td>885160246471</td>\n",
       "      <td>0</td>\n",
       "      <td>ZZR LOA</td>\n",
       "      <td>YELLOW API</td>\n",
       "    </tr>\n",
       "  </tbody>\n",
       "</table>\n",
       "<p>32656 rows × 5 columns</p>\n",
       "</div>"
      ],
      "text/plain": [
       "      Company       Barcode  O/H  Item Name       Color\n",
       "0          BY  885160294489   70  134 CANNA           1\n",
       "1          BY  885160294496   15  134 CANNA          1B\n",
       "2          BY  885160294533    0  134 CANNA       4N274\n",
       "3          BY  885160294540    0  134 CANNA      BT4007\n",
       "4          BY  885160294502   23  134 CANNA       F2842\n",
       "...       ...           ...  ...        ...         ...\n",
       "32651      BY  885160246532    0    ZZR LOA        SNOW\n",
       "32652      BY  885160246464    0    ZZR LOA     SP1B/30\n",
       "32653      BY  885160252335    0    ZZR LOA       SP427\n",
       "32654      BY  885160257224    0    ZZR LOA       SP430\n",
       "32655      BY  885160246471    0    ZZR LOA  YELLOW API\n",
       "\n",
       "[32656 rows x 5 columns]"
      ]
     },
     "execution_count": 13,
     "metadata": {},
     "output_type": "execute_result"
    }
   ],
   "source": [
    "new_inv"
   ]
  },
  {
   "cell_type": "code",
   "execution_count": null,
   "id": "a7ce7556",
   "metadata": {},
   "outputs": [],
   "source": [
    "column_list = list(new_inv.columns)\n",
    "\n",
    "        # Select Company name\n",
    "        # company_list = ['AL', 'VF', 'BY', 'OUTRE','HZ']\n",
    "        comp_name = 'BY'\n",
    "\n",
    "        # Select UPC column\n",
    "        itemlookupcode = 'Barcode'\n",
    "\n",
    "        # Select Company Inventory column\n",
    "        comp_inv = 'O/H'\n",
    "\n",
    "        # Select Description column\n",
    "        description = 'Item Name'\n",
    "\n",
    "        # Select Extended Description column\n",
    "        ext_desc = 'Color'\n",
    "\n",
    "        # Merge needed columns\n",
    "        new_inv = new_inv[[itemlookupcode, comp_inv, description, ext_desc]]\n",
    "\n",
    "        new_inv.insert(0, 'Company', comp_name)\n",
    "\n",
    "        # rename columns\n",
    "        new_inv.columns = self.column_name\n",
    "\n",
    "        # pre processing\n",
    "        new_inv = new_inv.dropna(subset=['UPC', 'company Inventory'])\n",
    "        new_inv['company Inventory'] = new_inv['company Inventory'].astype('int')\n",
    "        # new_inv['UPC'] = new_inv['UPC'].astype('int64')\n",
    "        new_inv.loc[new_inv['company Inventory']<10, 'company Inventory'] = 0\n",
    "\n",
    "        # delete exist data\n",
    "        self.all_upc_inv.drop(self.all_upc_inv[self.all_upc_inv['COMPAY']==comp_name].index, inplace=True)\n",
    "\n",
    "        # \n",
    "        self.all_upc_inv = pd.concat([self.all_upc_inv, new_inv])\n",
    "\n",
    "        # reset index\n",
    "        self.all_upc_inv = self.all_upc_inv.reset_index(drop=True)"
   ]
  },
  {
   "cell_type": "code",
   "execution_count": 5,
   "id": "441b6fdc",
   "metadata": {},
   "outputs": [
    {
     "data": {
      "application/vnd.microsoft.datawrangler.viewer.v0+json": {
       "columns": [
        {
         "name": "index",
         "rawType": "int64",
         "type": "integer"
        },
        {
         "name": "Item Name",
         "rawType": "object",
         "type": "string"
        },
        {
         "name": "Unnamed: 1",
         "rawType": "float64",
         "type": "float"
        },
        {
         "name": "Color",
         "rawType": "object",
         "type": "string"
        },
        {
         "name": "Class",
         "rawType": "object",
         "type": "string"
        },
        {
         "name": "O/H",
         "rawType": "int64",
         "type": "integer"
        },
        {
         "name": "Unnamed: 5",
         "rawType": "float64",
         "type": "float"
        },
        {
         "name": "Price",
         "rawType": "float64",
         "type": "float"
        },
        {
         "name": "Barcode",
         "rawType": "object",
         "type": "string"
        }
       ],
       "conversionMethod": "pd.DataFrame",
       "ref": "6175e6e4-e1c7-411c-83ea-7dd966167139",
       "rows": [
        [
         "9433",
         "ISHA",
         null,
         "1",
         "YB",
         "0",
         null,
         "19.95",
         "842045006254"
        ]
       ],
       "shape": {
        "columns": 8,
        "rows": 1
       }
      },
      "text/html": [
       "<div>\n",
       "<style scoped>\n",
       "    .dataframe tbody tr th:only-of-type {\n",
       "        vertical-align: middle;\n",
       "    }\n",
       "\n",
       "    .dataframe tbody tr th {\n",
       "        vertical-align: top;\n",
       "    }\n",
       "\n",
       "    .dataframe thead th {\n",
       "        text-align: right;\n",
       "    }\n",
       "</style>\n",
       "<table border=\"1\" class=\"dataframe\">\n",
       "  <thead>\n",
       "    <tr style=\"text-align: right;\">\n",
       "      <th></th>\n",
       "      <th>Item Name</th>\n",
       "      <th>Unnamed: 1</th>\n",
       "      <th>Color</th>\n",
       "      <th>Class</th>\n",
       "      <th>O/H</th>\n",
       "      <th>Unnamed: 5</th>\n",
       "      <th>Price</th>\n",
       "      <th>Barcode</th>\n",
       "    </tr>\n",
       "  </thead>\n",
       "  <tbody>\n",
       "    <tr>\n",
       "      <th>9433</th>\n",
       "      <td>ISHA</td>\n",
       "      <td>NaN</td>\n",
       "      <td>1</td>\n",
       "      <td>YB</td>\n",
       "      <td>0</td>\n",
       "      <td>NaN</td>\n",
       "      <td>19.95</td>\n",
       "      <td>842045006254</td>\n",
       "    </tr>\n",
       "  </tbody>\n",
       "</table>\n",
       "</div>"
      ],
      "text/plain": [
       "     Item Name  Unnamed: 1 Color Class  O/H  Unnamed: 5  Price       Barcode\n",
       "9433      ISHA         NaN     1    YB    0         NaN  19.95  842045006254"
      ]
     },
     "execution_count": 5,
     "metadata": {},
     "output_type": "execute_result"
    }
   ],
   "source": [
    "new_inv[new_inv['Barcode']=='842045006254']"
   ]
  },
  {
   "cell_type": "code",
   "execution_count": null,
   "id": "33bc5ec1",
   "metadata": {},
   "outputs": [],
   "source": [
    "if self._check_state['BY'] == 0:\n",
    "            creds = get_credentials(self._root_path)\n",
    "\n",
    "            with open(self._root_path+'appdata/gmail_auth.json') as f:\n",
    "                temp = json.load(f)\n",
    "                email_user = temp['username']\n",
    "                email_password = temp['password']\n",
    "            \n",
    "            auth_string = f\"user={email_user}\\x01auth=Bearer {creds.token}\\x01\\x01\"\n",
    "\n",
    "            mail = imaplib.IMAP4_SSL('imap.gmail.com')\n",
    "            mail.authenticate('XOAUTH2', lambda x: auth_string)\n",
    "            mail.select('\"[Gmail]/All Mail\"')\n",
    "\n",
    "            status, messages = mail.search(None, f'SUBJECT {self.BY_mail[\"SUBJECT\"]} FROM {self.BY_mail[\"FROM\"]}')\n",
    "\n",
    "            if status == 'OK':\n",
    "                # Convert messages list from bytes to list of email IDs\n",
    "                messages = messages[0].split()\n",
    "\n",
    "                res, msg = mail.fetch(messages[-1], '(RFC822)')\n",
    "\n",
    "                decoded_msg = email.message_from_bytes(msg[0][1])\n",
    "                date_recieved = datetime.datetime.strptime(decoded_msg.get('Date'), \"%a, %d %b %Y %X %z\")\n",
    "                self.update_history.loc[self.update_history['Initial']=='BY', 'Date'] = date_recieved.strftime(\"%d-%b\")\n",
    "\n",
    "                for part in decoded_msg.walk():\n",
    "                    if part.get('Content-Disposition'):\n",
    "                        filename = part.get_filename()\n",
    "                        with open(self._root_path+'inv_data/BY_InventoryListAll.xls', 'wb') as f:\n",
    "                            f.write(part.get_payload(decode=True))\n",
    "                        print(f'BY - {filename} downloaded')\n",
    "            else:\n",
    "                print(\"Failed to retrieve emails.\")\n",
    "\n",
    "            mail.close()\n",
    "            mail.logout()\n",
    "\n",
    "        # load new inv data\n",
    "        # filename = QFileDialog.getOpenFileName(self, \"Select File BOYANG (BY)\", \"./\", \"Any Files (*)\")\n",
    "        # new_inv = pd.read_excel(filename[0], skiprows=3)\n",
    "        new_inv = pd.read_excel(self._root_path+'inv_data\\BY_InventoryListAll.xls', skiprows=3)\n",
    "\n",
    "        # get column name for choose upc / company inventory / description / extended description columns\n",
    "        column_list = list(new_inv.columns)\n",
    "\n",
    "        # Select Company name\n",
    "        # company_list = ['AL', 'VF', 'BY', 'OUTRE','HZ']\n",
    "        comp_name = 'BY'\n",
    "\n",
    "        # Select UPC column\n",
    "        itemlookupcode = 'Barcode'\n",
    "\n",
    "        # Select Company Inventory column\n",
    "        comp_inv = 'O/H'\n",
    "\n",
    "        # Select Description column\n",
    "        description = 'Item Name'\n",
    "\n",
    "        # Select Extended Description column\n",
    "        ext_desc = 'Color'\n",
    "\n",
    "        # Merge needed columns\n",
    "        new_inv = new_inv[[itemlookupcode, comp_inv, description, ext_desc]]\n",
    "\n",
    "        new_inv.insert(0, 'Company', comp_name)\n",
    "\n",
    "        # rename columns\n",
    "        new_inv.columns = self.column_name\n",
    "\n",
    "        # pre processing\n",
    "        new_inv = new_inv.dropna(subset=['UPC', 'company Inventory'])\n",
    "        new_inv['company Inventory'] = new_inv['company Inventory'].astype('int')\n",
    "        # new_inv['UPC'] = new_inv['UPC'].astype('int64')\n",
    "        new_inv.loc[new_inv['company Inventory']<10, 'company Inventory'] = 0\n",
    "\n",
    "        # delete exist data\n",
    "        self.all_upc_inv.drop(self.all_upc_inv[self.all_upc_inv['COMPAY']==comp_name].index, inplace=True)\n",
    "\n",
    "        # \n",
    "        self.all_upc_inv = pd.concat([self.all_upc_inv, new_inv])\n",
    "\n",
    "        # reset index\n",
    "        self.all_upc_inv = self.all_upc_inv.reset_index(drop=True)\n",
    "\n",
    "        # self.update_history.loc[self.update_history['Initial']==comp_name, 'Date'] = datetime.date.today().strftime(\"%d-%b\")\n",
    "        # QMessageBox.information(self, \"Info\", \"Updated\")"
   ]
  }
 ],
 "metadata": {
  "kernelspec": {
   "display_name": "pyside6",
   "language": "python",
   "name": "python3"
  },
  "language_info": {
   "codemirror_mode": {
    "name": "ipython",
    "version": 3
   },
   "file_extension": ".py",
   "mimetype": "text/x-python",
   "name": "python",
   "nbconvert_exporter": "python",
   "pygments_lexer": "ipython3",
   "version": "3.10.13"
  }
 },
 "nbformat": 4,
 "nbformat_minor": 5
}
