{
 "cells": [
  {
   "cell_type": "code",
   "execution_count": 1,
   "metadata": {},
   "outputs": [],
   "source": [
    "from sqlalchemy import create_engine\n",
    "from sqlalchemy.engine import URL\n",
    "import pandas as pd\n",
    "import json, datetime"
   ]
  },
  {
   "cell_type": "code",
   "execution_count": 2,
   "metadata": {},
   "outputs": [],
   "source": [
    "root_path = ''\n",
    "\n",
    "with open(root_path+'appdata/db_auth.json') as f:\n",
    "        temp = json.load(f)\n",
    "        server = temp['server']\n",
    "        database = temp['database'] \n",
    "        username = temp['username'] \n",
    "        password = temp['password']\n",
    "\n",
    "connection_string = 'DRIVER={SQL Server};SERVER='+server+';DATABASE='+database+';UID='+username+';PWD='+ password\n",
    "connection_url = URL.create(\"mssql+pyodbc\", query={\"odbc_connect\": connection_string})\n",
    "\n",
    "engine = create_engine(connection_url)"
   ]
  },
  {
   "cell_type": "code",
   "execution_count": null,
   "metadata": {},
   "outputs": [],
   "source": [
    "query = f\"\"\"\n",
    "SELECT * FROM dbo.supplier\n",
    "\"\"\"\n",
    "\n",
    "with engine.connect() as conn, conn.begin():  \n",
    "    sup_list = pd.read_sql(query, conn)"
   ]
  },
  {
   "cell_type": "code",
   "execution_count": null,
   "metadata": {},
   "outputs": [],
   "source": [
    "sup_list[sup_list['SupplierName'].str.startswith('SHAKE')]"
   ]
  },
  {
   "cell_type": "code",
   "execution_count": 7,
   "metadata": {},
   "outputs": [],
   "source": [
    "query = f\"\"\"\n",
    "SELECT \n",
    "    item.ItemLookupCode, \n",
    "    sp.SupplierID, \n",
    "    dbo.Supplier.SupplierName, \n",
    "    dbo.Supplier.Code, \n",
    "    item.Description as Description,\n",
    "    item.Price Price, \n",
    "    item.Cost itemCost, \n",
    "    sp.Cost spCost,\n",
    "    dbo.PurchaseOrderEntry.Price recentPrice\n",
    "FROM \n",
    "    dbo.Item item\n",
    "LEFT JOIN \n",
    "    dbo.SupplierList sp ON item.ID=sp.ItemID\n",
    "LEFT JOIN \n",
    "    dbo.Supplier ON sp.SupplierID=dbo.Supplier.ID\n",
    "LEFT JOIN\n",
    "    dbo.PurchaseOrderEntry ON item.ID=dbo.PurchaseOrderEntry.ItemID\n",
    "WHERE \n",
    "    item.DepartmentID IN (2,4,6)\n",
    "    AND sp.SupplierID IN (2123)\n",
    "    AND item.Inactive = 0\n",
    "ORDER BY \n",
    "    item.SupplierID,\n",
    "    item.Description;\n",
    "\"\"\"\n",
    "\n",
    "# query = f\"\"\"\n",
    "# SELECT \n",
    "#     item.ItemLookupCode, \n",
    "#     sp.SupplierID, \n",
    "#     dbo.Supplier.SupplierName, \n",
    "#     dbo.Supplier.Code, \n",
    "#     item.Description as Description,\n",
    "#     item.Price Price, \n",
    "#     item.Cost itemCost, \n",
    "#     sp.Cost spCost\n",
    "# FROM \n",
    "#     dbo.Item item\n",
    "# LEFT JOIN \n",
    "#     dbo.SupplierList sp ON item.ID=sp.ItemID\n",
    "# LEFT JOIN \n",
    "#     dbo.Supplier ON sp.SupplierID=dbo.Supplier.ID\n",
    "# WHERE \n",
    "#     item.DepartmentID IN (2,4,6)\n",
    "#     AND sp.SupplierID IN (2123)\n",
    "#     AND item.Inactive = 0\n",
    "# ORDER BY \n",
    "#     item.SupplierID,\n",
    "#     item.Description;\n",
    "# \"\"\"\n",
    "\n",
    "with engine.connect() as conn, conn.begin():  \n",
    "    fromPOS = pd.read_sql(query, conn, dtype={'ItemLookupCode': str})"
   ]
  },
  {
   "cell_type": "code",
   "execution_count": 4,
   "metadata": {},
   "outputs": [
    {
     "data": {
      "text/html": [
       "<div>\n",
       "<style scoped>\n",
       "    .dataframe tbody tr th:only-of-type {\n",
       "        vertical-align: middle;\n",
       "    }\n",
       "\n",
       "    .dataframe tbody tr th {\n",
       "        vertical-align: top;\n",
       "    }\n",
       "\n",
       "    .dataframe thead th {\n",
       "        text-align: right;\n",
       "    }\n",
       "</style>\n",
       "<table border=\"1\" class=\"dataframe\">\n",
       "  <thead>\n",
       "    <tr style=\"text-align: right;\">\n",
       "      <th></th>\n",
       "      <th>ItemLookupCode</th>\n",
       "      <th>SupplierID</th>\n",
       "      <th>SupplierName</th>\n",
       "      <th>Code</th>\n",
       "      <th>Description</th>\n",
       "      <th>Price</th>\n",
       "      <th>itemCost</th>\n",
       "      <th>spCost</th>\n",
       "      <th>Cost</th>\n",
       "    </tr>\n",
       "  </thead>\n",
       "  <tbody>\n",
       "    <tr>\n",
       "      <th>0</th>\n",
       "      <td>616128305110</td>\n",
       "      <td>2123</td>\n",
       "      <td>SHAKE-N-GO</td>\n",
       "      <td>10107</td>\n",
       "      <td>SIA RT4/CINAM</td>\n",
       "      <td>34.99</td>\n",
       "      <td>25.0</td>\n",
       "      <td>25.0</td>\n",
       "      <td>25.0</td>\n",
       "    </tr>\n",
       "    <tr>\n",
       "      <th>1</th>\n",
       "      <td>800181420426</td>\n",
       "      <td>2123</td>\n",
       "      <td>SHAKE-N-GO</td>\n",
       "      <td>10107</td>\n",
       "      <td>3H-BW30 NATURAL</td>\n",
       "      <td>429.99</td>\n",
       "      <td>195.0</td>\n",
       "      <td>195.0</td>\n",
       "      <td>195.0</td>\n",
       "    </tr>\n",
       "    <tr>\n",
       "      <th>2</th>\n",
       "      <td>800181420433</td>\n",
       "      <td>2123</td>\n",
       "      <td>SHAKE-N-GO</td>\n",
       "      <td>10107</td>\n",
       "      <td>3H-BW30 NATURAL BK</td>\n",
       "      <td>429.99</td>\n",
       "      <td>195.0</td>\n",
       "      <td>195.0</td>\n",
       "      <td>195.0</td>\n",
       "    </tr>\n",
       "    <tr>\n",
       "      <th>3</th>\n",
       "      <td>968252659011</td>\n",
       "      <td>2123</td>\n",
       "      <td>SHAKE-N-GO</td>\n",
       "      <td>10107</td>\n",
       "      <td>B-AFRICA 1</td>\n",
       "      <td>39.99</td>\n",
       "      <td>17.5</td>\n",
       "      <td>17.5</td>\n",
       "      <td>17.5</td>\n",
       "    </tr>\n",
       "    <tr>\n",
       "      <th>4</th>\n",
       "      <td>968252659028</td>\n",
       "      <td>2123</td>\n",
       "      <td>SHAKE-N-GO</td>\n",
       "      <td>10107</td>\n",
       "      <td>B-AFRICA 1B</td>\n",
       "      <td>39.99</td>\n",
       "      <td>17.5</td>\n",
       "      <td>17.5</td>\n",
       "      <td>17.5</td>\n",
       "    </tr>\n",
       "    <tr>\n",
       "      <th>...</th>\n",
       "      <td>...</td>\n",
       "      <td>...</td>\n",
       "      <td>...</td>\n",
       "      <td>...</td>\n",
       "      <td>...</td>\n",
       "      <td>...</td>\n",
       "      <td>...</td>\n",
       "      <td>...</td>\n",
       "      <td>...</td>\n",
       "    </tr>\n",
       "    <tr>\n",
       "      <th>10051</th>\n",
       "      <td>968252791179</td>\n",
       "      <td>2123</td>\n",
       "      <td>SHAKE-N-GO</td>\n",
       "      <td>10107</td>\n",
       "      <td>ZOE F4/27</td>\n",
       "      <td>49.99</td>\n",
       "      <td>26.0</td>\n",
       "      <td>26.0</td>\n",
       "      <td>26.0</td>\n",
       "    </tr>\n",
       "    <tr>\n",
       "      <th>10052</th>\n",
       "      <td>968252791186</td>\n",
       "      <td>2123</td>\n",
       "      <td>SHAKE-N-GO</td>\n",
       "      <td>10107</td>\n",
       "      <td>ZOE F4/30</td>\n",
       "      <td>49.99</td>\n",
       "      <td>26.0</td>\n",
       "      <td>26.0</td>\n",
       "      <td>26.0</td>\n",
       "    </tr>\n",
       "    <tr>\n",
       "      <th>10053</th>\n",
       "      <td>968252791896</td>\n",
       "      <td>2123</td>\n",
       "      <td>SHAKE-N-GO</td>\n",
       "      <td>10107</td>\n",
       "      <td>ZOE RB35</td>\n",
       "      <td>49.99</td>\n",
       "      <td>26.0</td>\n",
       "      <td>26.0</td>\n",
       "      <td>26.0</td>\n",
       "    </tr>\n",
       "    <tr>\n",
       "      <th>10054</th>\n",
       "      <td>968252791797</td>\n",
       "      <td>2123</td>\n",
       "      <td>SHAKE-N-GO</td>\n",
       "      <td>10107</td>\n",
       "      <td>ZOE T27</td>\n",
       "      <td>49.99</td>\n",
       "      <td>26.0</td>\n",
       "      <td>26.0</td>\n",
       "      <td>26.0</td>\n",
       "    </tr>\n",
       "    <tr>\n",
       "      <th>10055</th>\n",
       "      <td>968252792145</td>\n",
       "      <td>2123</td>\n",
       "      <td>SHAKE-N-GO</td>\n",
       "      <td>10107</td>\n",
       "      <td>ZOE T332</td>\n",
       "      <td>49.99</td>\n",
       "      <td>26.0</td>\n",
       "      <td>26.0</td>\n",
       "      <td>26.0</td>\n",
       "    </tr>\n",
       "  </tbody>\n",
       "</table>\n",
       "<p>10056 rows × 9 columns</p>\n",
       "</div>"
      ],
      "text/plain": [
       "      ItemLookupCode  SupplierID SupplierName   Code         Description  \\\n",
       "0       616128305110        2123   SHAKE-N-GO  10107       SIA RT4/CINAM   \n",
       "1       800181420426        2123   SHAKE-N-GO  10107     3H-BW30 NATURAL   \n",
       "2       800181420433        2123   SHAKE-N-GO  10107  3H-BW30 NATURAL BK   \n",
       "3       968252659011        2123   SHAKE-N-GO  10107          B-AFRICA 1   \n",
       "4       968252659028        2123   SHAKE-N-GO  10107         B-AFRICA 1B   \n",
       "...              ...         ...          ...    ...                 ...   \n",
       "10051   968252791179        2123   SHAKE-N-GO  10107           ZOE F4/27   \n",
       "10052   968252791186        2123   SHAKE-N-GO  10107           ZOE F4/30   \n",
       "10053   968252791896        2123   SHAKE-N-GO  10107            ZOE RB35   \n",
       "10054   968252791797        2123   SHAKE-N-GO  10107             ZOE T27   \n",
       "10055   968252792145        2123   SHAKE-N-GO  10107            ZOE T332   \n",
       "\n",
       "        Price  itemCost  spCost   Cost  \n",
       "0       34.99      25.0    25.0   25.0  \n",
       "1      429.99     195.0   195.0  195.0  \n",
       "2      429.99     195.0   195.0  195.0  \n",
       "3       39.99      17.5    17.5   17.5  \n",
       "4       39.99      17.5    17.5   17.5  \n",
       "...       ...       ...     ...    ...  \n",
       "10051   49.99      26.0    26.0   26.0  \n",
       "10052   49.99      26.0    26.0   26.0  \n",
       "10053   49.99      26.0    26.0   26.0  \n",
       "10054   49.99      26.0    26.0   26.0  \n",
       "10055   49.99      26.0    26.0   26.0  \n",
       "\n",
       "[10056 rows x 9 columns]"
      ]
     },
     "execution_count": 4,
     "metadata": {},
     "output_type": "execute_result"
    }
   ],
   "source": [
    "fromPOS['Cost']= fromPOS[['itemCost', 'spCost']].apply(max, axis=1)\n",
    "fromPOS"
   ]
  },
  {
   "cell_type": "code",
   "execution_count": 10,
   "metadata": {},
   "outputs": [],
   "source": [
    "sng_inv = pd.read_excel(root_path+'inv_data\\SNG_inv.xlsx', dtype={'Barcode':str})"
   ]
  },
  {
   "cell_type": "code",
   "execution_count": 13,
   "metadata": {},
   "outputs": [],
   "source": [
    "sng_cost = sng_inv.merge(fromPOS[['ItemLookupCode', 'Cost']], how='left', left_on='Barcode', right_on='ItemLookupCode')"
   ]
  },
  {
   "cell_type": "code",
   "execution_count": null,
   "metadata": {},
   "outputs": [],
   "source": [
    "low_price = fromPOS[fromPOS['Price']<fromPOS['Cost']]"
   ]
  },
  {
   "cell_type": "code",
   "execution_count": 14,
   "metadata": {},
   "outputs": [],
   "source": [
    "fromPOS = fromPOS[['ItemLookupCode', 'Description','Price', 'Cost']]"
   ]
  },
  {
   "cell_type": "code",
   "execution_count": null,
   "metadata": {},
   "outputs": [],
   "source": [
    "fromPOS"
   ]
  },
  {
   "cell_type": "code",
   "execution_count": null,
   "metadata": {},
   "outputs": [],
   "source": [
    "all_amazon = pd.read_csv(root_path+'inv_data/Amazon_All+Listings+Report.txt', sep='\\t', dtype={'product-id': str})\n",
    "all_amazon = all_amazon[['seller-sku', 'asin1', 'listing-id',\n",
    "       'price', 'product-id-type', 'product-id', 'status']]"
   ]
  },
  {
   "cell_type": "code",
   "execution_count": null,
   "metadata": {},
   "outputs": [],
   "source": [
    "test = fromPOS.merge(all_amazon, how='left', left_on='ItemLookupCode', right_on='product-id')"
   ]
  },
  {
   "cell_type": "code",
   "execution_count": 15,
   "metadata": {},
   "outputs": [],
   "source": [
    "fromPOS.to_excel('test.xlsx')"
   ]
  },
  {
   "cell_type": "code",
   "execution_count": null,
   "metadata": {},
   "outputs": [],
   "source": [
    "test"
   ]
  },
  {
   "cell_type": "code",
   "execution_count": null,
   "metadata": {},
   "outputs": [],
   "source": [
    "test.dropna()"
   ]
  },
  {
   "cell_type": "code",
   "execution_count": null,
   "metadata": {},
   "outputs": [],
   "source": [
    "dup = test[test.duplicated('ItemLookupCode')]"
   ]
  },
  {
   "cell_type": "code",
   "execution_count": null,
   "metadata": {},
   "outputs": [],
   "source": [
    "test.to_excel('test.xlsx', index=False)"
   ]
  },
  {
   "cell_type": "code",
   "execution_count": null,
   "metadata": {},
   "outputs": [],
   "source": []
  }
 ],
 "metadata": {
  "kernelspec": {
   "display_name": "pyside6",
   "language": "python",
   "name": "python3"
  },
  "language_info": {
   "codemirror_mode": {
    "name": "ipython",
    "version": 3
   },
   "file_extension": ".py",
   "mimetype": "text/x-python",
   "name": "python",
   "nbconvert_exporter": "python",
   "pygments_lexer": "ipython3",
   "version": "3.10.13"
  }
 },
 "nbformat": 4,
 "nbformat_minor": 2
}
