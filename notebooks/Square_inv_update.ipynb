{
 "cells": [
  {
   "cell_type": "code",
   "execution_count": 1,
   "metadata": {},
   "outputs": [],
   "source": [
    "from square.client import Client\n",
    "import json, uuid, datetime\n",
    "import pandas as pd\n",
    "\n",
    "from sqlalchemy import create_engine\n",
    "from sqlalchemy.engine import URL\n",
    "\n",
    "import time\n",
    "\n",
    "tic = time.time()"
   ]
  },
  {
   "cell_type": "code",
   "execution_count": 2,
   "metadata": {},
   "outputs": [],
   "source": [
    "root_path = ''\n",
    "\n",
    "with open(root_path+'appdata/square_auth.json') as f:\n",
    "    temp = json.load(f)\n",
    "    access_token = temp['access_token']\n",
    "    environment = temp['environment'] "
   ]
  },
  {
   "cell_type": "code",
   "execution_count": 3,
   "metadata": {},
   "outputs": [],
   "source": [
    "client = Client(access_token=access_token, environment=environment)"
   ]
  },
  {
   "cell_type": "code",
   "execution_count": 4,
   "metadata": {},
   "outputs": [],
   "source": [
    "body = {\n",
    "    \"product_types\": [\n",
    "        \"REGULAR\"\n",
    "    ]\n",
    "}\n",
    "\n",
    "result = client.catalog.search_catalog_items(body=body)"
   ]
  },
  {
   "cell_type": "code",
   "execution_count": 5,
   "metadata": {},
   "outputs": [],
   "source": [
    "# for body in result.body['items']:\n",
    "#     print(body)\n",
    "#     print('-'*100)"
   ]
  },
  {
   "cell_type": "code",
   "execution_count": 6,
   "metadata": {},
   "outputs": [
    {
     "name": "stdout",
     "output_type": "stream",
     "text": [
      "UGNPVAAYCZZAXCYT5U42F2RM\n",
      "5JK27VJV4I4X2RGCD6CVJANI\n",
      "CMNF7457MTFJCNM5Q2MZB37J\n",
      "OLFO7VF2ZQXZYXK76TLRTIOE\n",
      "OR37JNIWLUTPT2OHPTIEPIZK\n"
     ]
    }
   ],
   "source": [
    "item_list = pd.DataFrame(columns=['object_id', 'upc'])\n",
    "\n",
    "for body in result.body['items']:\n",
    "    for data in body['item_data']['variations']:\n",
    "        try:\n",
    "            item_list.loc[len(item_list)]= {'object_id': data['id'], 'upc': data['item_variation_data']['upc']}\n",
    "        except:\n",
    "            print(data['id'])"
   ]
  },
  {
   "cell_type": "code",
   "execution_count": 7,
   "metadata": {},
   "outputs": [
    {
     "data": {
      "text/html": [
       "<div>\n",
       "<style scoped>\n",
       "    .dataframe tbody tr th:only-of-type {\n",
       "        vertical-align: middle;\n",
       "    }\n",
       "\n",
       "    .dataframe tbody tr th {\n",
       "        vertical-align: top;\n",
       "    }\n",
       "\n",
       "    .dataframe thead th {\n",
       "        text-align: right;\n",
       "    }\n",
       "</style>\n",
       "<table border=\"1\" class=\"dataframe\">\n",
       "  <thead>\n",
       "    <tr style=\"text-align: right;\">\n",
       "      <th></th>\n",
       "      <th>object_id</th>\n",
       "      <th>upc</th>\n",
       "    </tr>\n",
       "  </thead>\n",
       "  <tbody>\n",
       "    <tr>\n",
       "      <th>0</th>\n",
       "      <td>WM2M7LQ7NNQ4W5UWJDNLTRFL</td>\n",
       "      <td>650270541019</td>\n",
       "    </tr>\n",
       "    <tr>\n",
       "      <th>1</th>\n",
       "      <td>ER5A6FQTK6XOVPNRESQ5N2T7</td>\n",
       "      <td>650270541026</td>\n",
       "    </tr>\n",
       "    <tr>\n",
       "      <th>2</th>\n",
       "      <td>YHSYCGWO474CZ7CBWFMUET2J</td>\n",
       "      <td>650270541033</td>\n",
       "    </tr>\n",
       "    <tr>\n",
       "      <th>3</th>\n",
       "      <td>URXHG7SHVRHOCGOS76MVAKZO</td>\n",
       "      <td>650270541040</td>\n",
       "    </tr>\n",
       "    <tr>\n",
       "      <th>4</th>\n",
       "      <td>DYDLQXE7AAL7FNAPIOM3O7JG</td>\n",
       "      <td>650270541057</td>\n",
       "    </tr>\n",
       "    <tr>\n",
       "      <th>...</th>\n",
       "      <td>...</td>\n",
       "      <td>...</td>\n",
       "    </tr>\n",
       "    <tr>\n",
       "      <th>1057</th>\n",
       "      <td>6TZGICRHB7T6SSGA73U7RMVX</td>\n",
       "      <td>827298861935</td>\n",
       "    </tr>\n",
       "    <tr>\n",
       "      <th>1058</th>\n",
       "      <td>AXJU4KJN5R2JVQBGRTNGUM4Y</td>\n",
       "      <td>827298861942</td>\n",
       "    </tr>\n",
       "    <tr>\n",
       "      <th>1059</th>\n",
       "      <td>54PLP7W6Z7JY4XZWC45MS22E</td>\n",
       "      <td>827298861959</td>\n",
       "    </tr>\n",
       "    <tr>\n",
       "      <th>1060</th>\n",
       "      <td>T5MH7V5EHV26VBL2I5E4L55J</td>\n",
       "      <td>827298861966</td>\n",
       "    </tr>\n",
       "    <tr>\n",
       "      <th>1061</th>\n",
       "      <td>BRBXT5F3MWWA76KTQL7K3M72</td>\n",
       "      <td>827298819578</td>\n",
       "    </tr>\n",
       "  </tbody>\n",
       "</table>\n",
       "<p>1062 rows × 2 columns</p>\n",
       "</div>"
      ],
      "text/plain": [
       "                     object_id           upc\n",
       "0     WM2M7LQ7NNQ4W5UWJDNLTRFL  650270541019\n",
       "1     ER5A6FQTK6XOVPNRESQ5N2T7  650270541026\n",
       "2     YHSYCGWO474CZ7CBWFMUET2J  650270541033\n",
       "3     URXHG7SHVRHOCGOS76MVAKZO  650270541040\n",
       "4     DYDLQXE7AAL7FNAPIOM3O7JG  650270541057\n",
       "...                        ...           ...\n",
       "1057  6TZGICRHB7T6SSGA73U7RMVX  827298861935\n",
       "1058  AXJU4KJN5R2JVQBGRTNGUM4Y  827298861942\n",
       "1059  54PLP7W6Z7JY4XZWC45MS22E  827298861959\n",
       "1060  T5MH7V5EHV26VBL2I5E4L55J  827298861966\n",
       "1061  BRBXT5F3MWWA76KTQL7K3M72  827298819578\n",
       "\n",
       "[1062 rows x 2 columns]"
      ]
     },
     "execution_count": 7,
     "metadata": {},
     "output_type": "execute_result"
    }
   ],
   "source": [
    "item_list"
   ]
  },
  {
   "cell_type": "code",
   "execution_count": 8,
   "metadata": {},
   "outputs": [],
   "source": [
    "with open(root_path+'appdata/db_auth.json') as f:\n",
    "    temp = json.load(f)\n",
    "    server = temp['server']\n",
    "    database = temp['database'] \n",
    "    username = temp['username'] \n",
    "    password = temp['password']\n",
    "\n",
    "connection_string = 'DRIVER={SQL Server};SERVER='+server+';DATABASE='+database+';UID='+username+';PWD='+ password\n",
    "connection_url = URL.create(\"mssql+pyodbc\", query={\"odbc_connect\": connection_string})\n",
    "\n",
    "engine = create_engine(connection_url)\n",
    "\n",
    "query = \"SELECT ItemLookupCode, Quantity\\\n",
    "        FROM dbo.Item Item \\\n",
    "        WHERE Item.DepartmentID IN (2, 4, 6) AND Item.Inactive = 0\\\n",
    "        ORDER BY ItemLookupCode;\"\n",
    "\n",
    "with engine.connect() as conn, conn.begin():  \n",
    "    fromPOS = pd.read_sql(query, conn, dtype={'Quantity':'int64'})\n",
    "\n",
    "fromPOS.fillna('', inplace=True)\n",
    "\n",
    "fromPOS.columns=['Item Lookup Code', 'Qty On Hand']"
   ]
  },
  {
   "cell_type": "code",
   "execution_count": 9,
   "metadata": {},
   "outputs": [],
   "source": [
    "test = item_list.merge(fromPOS[['Item Lookup Code', 'Qty On Hand']], how='left', left_on='upc', right_on='Item Lookup Code')"
   ]
  },
  {
   "cell_type": "code",
   "execution_count": 10,
   "metadata": {},
   "outputs": [],
   "source": [
    "test.loc[test['Qty On Hand']<0, 'Qty On Hand'] = 0\n",
    "test.drop('Item Lookup Code', axis=1, inplace=True)\n",
    "test.dropna(ignore_index=True ,inplace=True)"
   ]
  },
  {
   "cell_type": "code",
   "execution_count": 11,
   "metadata": {},
   "outputs": [
    {
     "name": "stdout",
     "output_type": "stream",
     "text": [
      "{}\n",
      "{}\n",
      "{'counts': [{'catalog_object_id': 'EQSEKTN5VJKDIDTIO3NCUQMC', 'catalog_object_type': 'ITEM_VARIATION', 'state': 'IN_STOCK', 'location_id': '7BRJFTZVH3FSX', 'quantity': '0', 'calculated_at': '2024-01-30T22:48:01.963Z'}, {'catalog_object_id': 'U66ZSBI6JOPJJJTE67LVE7C7', 'catalog_object_type': 'ITEM_VARIATION', 'state': 'IN_STOCK', 'location_id': '7BRJFTZVH3FSX', 'quantity': '1', 'calculated_at': '2024-01-30T22:48:01.964Z'}]}\n",
      "{'counts': [{'catalog_object_id': '4UFP2DYCODMRIFZDPZOJVEIE', 'catalog_object_type': 'ITEM_VARIATION', 'state': 'IN_STOCK', 'location_id': '7BRJFTZVH3FSX', 'quantity': '1', 'calculated_at': '2024-01-30T22:48:02.54Z'}]}\n",
      "{}\n",
      "{}\n",
      "{}\n",
      "{}\n",
      "{}\n",
      "{}\n",
      "{}\n"
     ]
    }
   ],
   "source": [
    "batch_size = 100  # 100 is maximum number for batch update supported by Square API\n",
    "\n",
    "for i in range(0, len(test), batch_size):\n",
    "    batch = range(i, min(i+batch_size, len(test)))\n",
    "    body = {\n",
    "        \"idempotency_key\": str(uuid.uuid1()),\n",
    "        \"changes\": []\n",
    "    }\n",
    "    for index in batch:\n",
    "        try:\n",
    "            body['changes'].append(\n",
    "                {\n",
    "                    \"type\": \"PHYSICAL_COUNT\",\n",
    "                    \"physical_count\": {\n",
    "                        \"catalog_object_id\": test['object_id'][index],\n",
    "                        \"state\": \"IN_STOCK\",\n",
    "                        \"location_id\": \"7BRJFTZVH3FSX\",\n",
    "                        \"quantity\": str(test['Qty On Hand'][index]),\n",
    "                        \"occurred_at\": datetime.datetime.now(datetime.timezone.utc).strftime('%Y-%m-%dT%H:%M:%S.000Z')\n",
    "                    }\n",
    "                }\n",
    "            )\n",
    "        except:\n",
    "            print(test.loc[index])\n",
    "    result = client.inventory.batch_change_inventory(body=body)\n",
    "\n",
    "    if result.is_success():\n",
    "        print(result.body)\n",
    "    elif result.is_error():\n",
    "        print(result.errors)\n"
   ]
  },
  {
   "cell_type": "code",
   "execution_count": 12,
   "metadata": {},
   "outputs": [
    {
     "name": "stdout",
     "output_type": "stream",
     "text": [
      "-9.281332015991211\n"
     ]
    }
   ],
   "source": [
    "toc = time.time()\n",
    "\n",
    "print(toc - tic)"
   ]
  }
 ],
 "metadata": {
  "kernelspec": {
   "display_name": "pyside6",
   "language": "python",
   "name": "python3"
  },
  "language_info": {
   "codemirror_mode": {
    "name": "ipython",
    "version": 3
   },
   "file_extension": ".py",
   "mimetype": "text/x-python",
   "name": "python",
   "nbconvert_exporter": "python",
   "pygments_lexer": "ipython3",
   "version": "3.10.13"
  }
 },
 "nbformat": 4,
 "nbformat_minor": 2
}
