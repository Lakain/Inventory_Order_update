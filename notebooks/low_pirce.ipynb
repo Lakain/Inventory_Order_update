{
 "cells": [
  {
   "cell_type": "code",
   "execution_count": 1,
   "metadata": {},
   "outputs": [],
   "source": [
    "from sqlalchemy import create_engine\n",
    "from sqlalchemy.engine import URL\n",
    "import pandas as pd\n",
    "import json, datetime"
   ]
  },
  {
   "cell_type": "code",
   "execution_count": 2,
   "metadata": {},
   "outputs": [],
   "source": [
    "root_path = ''\n",
    "\n",
    "with open(root_path+'appdata/db_auth.json') as f:\n",
    "        temp = json.load(f)\n",
    "        server = temp['server']\n",
    "        database = temp['database'] \n",
    "        username = temp['username'] \n",
    "        password = temp['password']\n",
    "\n",
    "connection_string = 'DRIVER={SQL Server};SERVER='+server+';DATABASE='+database+';UID='+username+';PWD='+ password\n",
    "connection_url = URL.create(\"mssql+pyodbc\", query={\"odbc_connect\": connection_string})\n",
    "\n",
    "engine = create_engine(connection_url)"
   ]
  },
  {
   "cell_type": "code",
   "execution_count": 5,
   "metadata": {},
   "outputs": [],
   "source": [
    "query = f\"\"\"\n",
    "SELECT \n",
    "    item.ItemLookupCode, \n",
    "    item.Quantity,\n",
    "    sp.SupplierID, \n",
    "    dbo.Supplier.SupplierName, \n",
    "    dbo.Supplier.Code, \n",
    "    item.Description as Description,\n",
    "    item.Price Price, \n",
    "    item.Cost itemCost, \n",
    "    sp.Cost spCost\n",
    "FROM \n",
    "    dbo.Item item\n",
    "LEFT JOIN \n",
    "    dbo.SupplierList sp ON item.ID=sp.ItemID\n",
    "LEFT JOIN \n",
    "    dbo.Supplier ON sp.SupplierID=dbo.Supplier.ID\n",
    "WHERE \n",
    "    item.DepartmentID IN (2,4,6)\n",
    "    AND Item.Inactive = 0\n",
    "ORDER BY \n",
    "    item.SupplierID,\n",
    "    item.Description;\n",
    "\"\"\"\n",
    "\n",
    "with engine.connect() as conn, conn.begin():  \n",
    "    fromPOS = pd.read_sql(query, conn, dtype={'ItemLookupCode': str})"
   ]
  },
  {
   "cell_type": "code",
   "execution_count": 8,
   "metadata": {},
   "outputs": [],
   "source": [
    "fromPOS['Cost']= fromPOS[['itemCost', 'spCost']].apply(max, axis=1)\n",
    "low_price = fromPOS[fromPOS['Price']<fromPOS['Cost']*1.5]"
   ]
  },
  {
   "cell_type": "code",
   "execution_count": 10,
   "metadata": {},
   "outputs": [
    {
     "ename": "",
     "evalue": "",
     "output_type": "error",
     "traceback": [
      "\u001b[1;31mThe Kernel crashed while executing code in the the current cell or a previous cell. Please review the code in the cell(s) to identify a possible cause of the failure. Click <a href='https://aka.ms/vscodeJupyterKernelCrash'>here</a> for more info. View Jupyter <a href='command:jupyter.viewOutput'>log</a> for further details."
     ]
    }
   ],
   "source": [
    "low_price.to_excel('low_price.xlsx', index=False)"
   ]
  },
  {
   "cell_type": "code",
   "execution_count": null,
   "metadata": {},
   "outputs": [],
   "source": []
  }
 ],
 "metadata": {
  "kernelspec": {
   "display_name": "pyside6",
   "language": "python",
   "name": "python3"
  },
  "language_info": {
   "codemirror_mode": {
    "name": "ipython",
    "version": 3
   },
   "file_extension": ".py",
   "mimetype": "text/x-python",
   "name": "python",
   "nbconvert_exporter": "python",
   "pygments_lexer": "ipython3",
   "version": "3.10.13"
  }
 },
 "nbformat": 4,
 "nbformat_minor": 2
}
