{
 "cells": [
  {
   "cell_type": "code",
   "execution_count": 27,
   "metadata": {},
   "outputs": [
    {
     "name": "stdout",
     "output_type": "stream",
     "text": [
      "h:\\내 드라이브\\Inventory_Order_update\n"
     ]
    }
   ],
   "source": [
    "cd \"h:\\내 드라이브\\Inventory_Order_update\""
   ]
  },
  {
   "cell_type": "code",
   "execution_count": 28,
   "metadata": {},
   "outputs": [],
   "source": [
    "from sqlalchemy import create_engine\n",
    "from sqlalchemy.engine import URL\n",
    "import pandas as pd\n",
    "import json\n",
    "\n",
    "root_path=''"
   ]
  },
  {
   "cell_type": "code",
   "execution_count": 29,
   "metadata": {},
   "outputs": [],
   "source": [
    "with open(root_path+'appdata/db_auth.json') as f:\n",
    "        temp = json.load(f)\n",
    "        server = temp['server']\n",
    "        database = temp['database'] \n",
    "        username = temp['username'] \n",
    "        password = temp['password']\n",
    "\n",
    "connection_string = 'DRIVER={SQL Server};SERVER='+server+';DATABASE='+database+';UID='+username+';PWD='+ password\n",
    "connection_url = URL.create(\"mssql+pyodbc\", query={\"odbc_connect\": connection_string})\n",
    "\n",
    "engine = create_engine(connection_url)"
   ]
  },
  {
   "cell_type": "code",
   "execution_count": 30,
   "metadata": {},
   "outputs": [],
   "source": [
    "query = f\"\"\"\n",
    "SELECT \n",
    "    item.ItemLookupCode, \n",
    "    item.Quantity,\n",
    "    sp.SupplierID, \n",
    "    dbo.Supplier.SupplierName, \n",
    "    dbo.Supplier.Code, \n",
    "    item.Description as Description,\n",
    "    item.Price Price, \n",
    "    item.Cost itemCost, \n",
    "    sp.Cost spCost\n",
    "FROM \n",
    "    dbo.Item item\n",
    "LEFT JOIN \n",
    "    dbo.SupplierList sp ON item.ID=sp.ItemID\n",
    "LEFT JOIN \n",
    "    dbo.Supplier ON sp.SupplierID=dbo.Supplier.ID\n",
    "WHERE \n",
    "    item.DepartmentID IN (2,4,6)\n",
    "    AND Item.Inactive = 0\n",
    "ORDER BY \n",
    "    item.SupplierID,\n",
    "    item.Description;\n",
    "\"\"\"\n",
    "\n",
    "with engine.connect() as conn, conn.begin():  \n",
    "    fromPOS = pd.read_sql(query, conn, dtype={'ItemLookupCode': str})"
   ]
  },
  {
   "cell_type": "code",
   "execution_count": 31,
   "metadata": {},
   "outputs": [],
   "source": [
    "all_amazon = pd.read_csv(root_path+'inv_data\\Amazon_All+Listings+Report.txt', sep='\\t')\n",
    "\n",
    "all_amazon = all_amazon[['seller-sku', 'asin1', 'item-name', 'item-description',\n",
    "'price', 'quantity', 'status', 'product-id']]"
   ]
  },
  {
   "cell_type": "code",
   "execution_count": 32,
   "metadata": {},
   "outputs": [
    {
     "data": {
      "text/html": [
       "<div>\n",
       "<style scoped>\n",
       "    .dataframe tbody tr th:only-of-type {\n",
       "        vertical-align: middle;\n",
       "    }\n",
       "\n",
       "    .dataframe tbody tr th {\n",
       "        vertical-align: top;\n",
       "    }\n",
       "\n",
       "    .dataframe thead th {\n",
       "        text-align: right;\n",
       "    }\n",
       "</style>\n",
       "<table border=\"1\" class=\"dataframe\">\n",
       "  <thead>\n",
       "    <tr style=\"text-align: right;\">\n",
       "      <th></th>\n",
       "      <th>seller-sku</th>\n",
       "      <th>asin1</th>\n",
       "      <th>item-name</th>\n",
       "      <th>item-description</th>\n",
       "      <th>price</th>\n",
       "      <th>quantity</th>\n",
       "      <th>status</th>\n",
       "      <th>product-id</th>\n",
       "    </tr>\n",
       "  </thead>\n",
       "  <tbody>\n",
       "    <tr>\n",
       "      <th>0</th>\n",
       "      <td>AL_10 CLOSURE 4X4_44</td>\n",
       "      <td>B07SQG9Y6H</td>\n",
       "      <td>Foxy Silver (Foxy Closure - 10\" Hh Lace) - Unp...</td>\n",
       "      <td>&lt;b&gt;Alicia Beauty Foxy Silver Collections Brazi...</td>\n",
       "      <td>58.9</td>\n",
       "      <td>10</td>\n",
       "      <td>Active</td>\n",
       "      <td>660014727678</td>\n",
       "    </tr>\n",
       "    <tr>\n",
       "      <th>1</th>\n",
       "      <td>AL_10 CLOSURE 4X4_51</td>\n",
       "      <td>B07SXQYHFJ</td>\n",
       "      <td>Foxy Silver (Foxy Closure - 10\" HH Lace) - Unp...</td>\n",
       "      <td>&lt;b&gt;Alicia Beauty Foxy Silver Collections Brazi...</td>\n",
       "      <td>58.9</td>\n",
       "      <td>10</td>\n",
       "      <td>Active</td>\n",
       "      <td>660014727685</td>\n",
       "    </tr>\n",
       "    <tr>\n",
       "      <th>2</th>\n",
       "      <td>AL_AMARA_2</td>\n",
       "      <td>B0849V3KW2</td>\n",
       "      <td>Foxy Lady (Amara - Synthetic Full Wig in 2</td>\n",
       "      <td>&lt;b&gt;Foxy Lady Beautiful Young Straight Short Le...</td>\n",
       "      <td>23.9</td>\n",
       "      <td>10</td>\n",
       "      <td>Active</td>\n",
       "      <td>660014731323</td>\n",
       "    </tr>\n",
       "    <tr>\n",
       "      <th>3</th>\n",
       "      <td>AL_AMARA_4</td>\n",
       "      <td>B0849YWDX8</td>\n",
       "      <td>Foxy Lady (Amara - Synthetic Full Wig in 4</td>\n",
       "      <td>&lt;b&gt;Foxy Lady Beautiful Young Straight Short Le...</td>\n",
       "      <td>23.9</td>\n",
       "      <td>10</td>\n",
       "      <td>Active</td>\n",
       "      <td>660014731330</td>\n",
       "    </tr>\n",
       "    <tr>\n",
       "      <th>4</th>\n",
       "      <td>AL_AMARA_613</td>\n",
       "      <td>B0849RD93L</td>\n",
       "      <td>Foxy Lady (Amara) - Synthetic Full Wig in 613</td>\n",
       "      <td>&lt;b&gt;Foxy Lady Beautiful Young Straight Short Le...</td>\n",
       "      <td>23.9</td>\n",
       "      <td>10</td>\n",
       "      <td>Active</td>\n",
       "      <td>660014731361</td>\n",
       "    </tr>\n",
       "    <tr>\n",
       "      <th>...</th>\n",
       "      <td>...</td>\n",
       "      <td>...</td>\n",
       "      <td>...</td>\n",
       "      <td>...</td>\n",
       "      <td>...</td>\n",
       "      <td>...</td>\n",
       "      <td>...</td>\n",
       "      <td>...</td>\n",
       "    </tr>\n",
       "    <tr>\n",
       "      <th>43028</th>\n",
       "      <td>VF_YESICA_P</td>\n",
       "      <td>B086QNCSHN</td>\n",
       "      <td>Vivica A. Fox High Heat Resistant Wigs, 26 Inc...</td>\n",
       "      <td>NaN</td>\n",
       "      <td>NaN</td>\n",
       "      <td>0</td>\n",
       "      <td>Incomplete</td>\n",
       "      <td>B086QNCSHN</td>\n",
       "    </tr>\n",
       "    <tr>\n",
       "      <th>43029</th>\n",
       "      <td>VF_YUCERA_P</td>\n",
       "      <td>B01B808WSC</td>\n",
       "      <td>Vivica A Fox Yucera Synthetic Fiber Natural Ba...</td>\n",
       "      <td>NaN</td>\n",
       "      <td>NaN</td>\n",
       "      <td>0</td>\n",
       "      <td>Incomplete</td>\n",
       "      <td>B01B808WSC</td>\n",
       "    </tr>\n",
       "    <tr>\n",
       "      <th>43030</th>\n",
       "      <td>VF_YUKI_P</td>\n",
       "      <td>B0C8ZQRNDS</td>\n",
       "      <td>Vivica A. Fox OXFORD - Remi Natural Human Hair...</td>\n",
       "      <td>NaN</td>\n",
       "      <td>NaN</td>\n",
       "      <td>0</td>\n",
       "      <td>Incomplete</td>\n",
       "      <td>B0C8ZQRNDS</td>\n",
       "    </tr>\n",
       "    <tr>\n",
       "      <th>43031</th>\n",
       "      <td>VF_ZINNIA_P</td>\n",
       "      <td>B09NBHCQDZ</td>\n",
       "      <td>VIVICA A FOX NATURAL HUMAN HAIR WIG - ZINNIA</td>\n",
       "      <td>NaN</td>\n",
       "      <td>NaN</td>\n",
       "      <td>0</td>\n",
       "      <td>Incomplete</td>\n",
       "      <td>B09NBHCQDZ</td>\n",
       "    </tr>\n",
       "    <tr>\n",
       "      <th>43032</th>\n",
       "      <td>XL-HM73-YJ0F</td>\n",
       "      <td>B07BZYRT8F</td>\n",
       "      <td>New Born Free Full Wig - New Born Free Full Wi...</td>\n",
       "      <td>NaN</td>\n",
       "      <td>NaN</td>\n",
       "      <td>0</td>\n",
       "      <td>Incomplete</td>\n",
       "      <td>B07BZYRT8F</td>\n",
       "    </tr>\n",
       "  </tbody>\n",
       "</table>\n",
       "<p>43033 rows × 8 columns</p>\n",
       "</div>"
      ],
      "text/plain": [
       "                 seller-sku       asin1  \\\n",
       "0      AL_10 CLOSURE 4X4_44  B07SQG9Y6H   \n",
       "1      AL_10 CLOSURE 4X4_51  B07SXQYHFJ   \n",
       "2                AL_AMARA_2  B0849V3KW2   \n",
       "3                AL_AMARA_4  B0849YWDX8   \n",
       "4              AL_AMARA_613  B0849RD93L   \n",
       "...                     ...         ...   \n",
       "43028           VF_YESICA_P  B086QNCSHN   \n",
       "43029           VF_YUCERA_P  B01B808WSC   \n",
       "43030             VF_YUKI_P  B0C8ZQRNDS   \n",
       "43031           VF_ZINNIA_P  B09NBHCQDZ   \n",
       "43032          XL-HM73-YJ0F  B07BZYRT8F   \n",
       "\n",
       "                                               item-name  \\\n",
       "0      Foxy Silver (Foxy Closure - 10\" Hh Lace) - Unp...   \n",
       "1      Foxy Silver (Foxy Closure - 10\" HH Lace) - Unp...   \n",
       "2             Foxy Lady (Amara - Synthetic Full Wig in 2   \n",
       "3             Foxy Lady (Amara - Synthetic Full Wig in 4   \n",
       "4          Foxy Lady (Amara) - Synthetic Full Wig in 613   \n",
       "...                                                  ...   \n",
       "43028  Vivica A. Fox High Heat Resistant Wigs, 26 Inc...   \n",
       "43029  Vivica A Fox Yucera Synthetic Fiber Natural Ba...   \n",
       "43030  Vivica A. Fox OXFORD - Remi Natural Human Hair...   \n",
       "43031       VIVICA A FOX NATURAL HUMAN HAIR WIG - ZINNIA   \n",
       "43032  New Born Free Full Wig - New Born Free Full Wi...   \n",
       "\n",
       "                                        item-description  price  quantity  \\\n",
       "0      <b>Alicia Beauty Foxy Silver Collections Brazi...   58.9        10   \n",
       "1      <b>Alicia Beauty Foxy Silver Collections Brazi...   58.9        10   \n",
       "2      <b>Foxy Lady Beautiful Young Straight Short Le...   23.9        10   \n",
       "3      <b>Foxy Lady Beautiful Young Straight Short Le...   23.9        10   \n",
       "4      <b>Foxy Lady Beautiful Young Straight Short Le...   23.9        10   \n",
       "...                                                  ...    ...       ...   \n",
       "43028                                                NaN    NaN         0   \n",
       "43029                                                NaN    NaN         0   \n",
       "43030                                                NaN    NaN         0   \n",
       "43031                                                NaN    NaN         0   \n",
       "43032                                                NaN    NaN         0   \n",
       "\n",
       "           status    product-id  \n",
       "0          Active  660014727678  \n",
       "1          Active  660014727685  \n",
       "2          Active  660014731323  \n",
       "3          Active  660014731330  \n",
       "4          Active  660014731361  \n",
       "...           ...           ...  \n",
       "43028  Incomplete    B086QNCSHN  \n",
       "43029  Incomplete    B01B808WSC  \n",
       "43030  Incomplete    B0C8ZQRNDS  \n",
       "43031  Incomplete    B09NBHCQDZ  \n",
       "43032  Incomplete    B07BZYRT8F  \n",
       "\n",
       "[43033 rows x 8 columns]"
      ]
     },
     "execution_count": 32,
     "metadata": {},
     "output_type": "execute_result"
    }
   ],
   "source": [
    "all_amazon"
   ]
  },
  {
   "cell_type": "code",
   "execution_count": 33,
   "metadata": {},
   "outputs": [],
   "source": [
    "temp = all_amazon.merge(fromPOS[['ItemLookupCode', 'Price', 'itemCost', 'spCost']], how='left', left_on='product-id', right_on='ItemLookupCode')"
   ]
  },
  {
   "cell_type": "code",
   "execution_count": 34,
   "metadata": {},
   "outputs": [],
   "source": [
    "temp2 = temp.fillna('')"
   ]
  },
  {
   "cell_type": "code",
   "execution_count": 35,
   "metadata": {},
   "outputs": [],
   "source": [
    "temp3 = temp2[temp2.duplicated()]"
   ]
  },
  {
   "cell_type": "code",
   "execution_count": 36,
   "metadata": {},
   "outputs": [],
   "source": [
    "check_list = temp[temp['price']<temp['Price']]"
   ]
  },
  {
   "cell_type": "code",
   "execution_count": 37,
   "metadata": {},
   "outputs": [],
   "source": [
    "temp.drop('ItemLookupCode', axis=1, inplace=True)"
   ]
  },
  {
   "cell_type": "code",
   "execution_count": 38,
   "metadata": {},
   "outputs": [],
   "source": [
    "temp['Cost'] = temp[['itemCost', 'spCost']].max(axis=1)\n",
    "temp.drop(['itemCost', 'spCost'], axis=1, inplace=True)\n",
    "temp['Cost'].fillna(0, inplace=True)"
   ]
  },
  {
   "cell_type": "code",
   "execution_count": null,
   "metadata": {},
   "outputs": [],
   "source": [
    "temp['spCost']"
   ]
  },
  {
   "cell_type": "code",
   "execution_count": 11,
   "metadata": {},
   "outputs": [],
   "source": [
    "temp.to_excel('amazon_pirce_check.xlsx', index=False)"
   ]
  },
  {
   "cell_type": "code",
   "execution_count": 18,
   "metadata": {},
   "outputs": [
    {
     "data": {
      "text/plain": [
       "0        49.95\n",
       "1        49.95\n",
       "2        10.95\n",
       "3        10.95\n",
       "4        10.95\n",
       "         ...  \n",
       "43085      NaN\n",
       "43086      NaN\n",
       "43087      NaN\n",
       "43088      NaN\n",
       "43089      NaN\n",
       "Length: 43090, dtype: float64"
      ]
     },
     "execution_count": 18,
     "metadata": {},
     "output_type": "execute_result"
    }
   ],
   "source": [
    "temp[['itemCost', 'spCost']].max(axis=1)"
   ]
  },
  {
   "cell_type": "code",
   "execution_count": 41,
   "metadata": {},
   "outputs": [],
   "source": [
    "brs_inv = pd.read_excel('inv_data/AL_brs inv.xls')\n",
    "inv = pd.read_excel('inv_data/AL_inv.xls')"
   ]
  },
  {
   "cell_type": "code",
   "execution_count": 42,
   "metadata": {},
   "outputs": [],
   "source": [
    "al_inv = pd.concat([brs_inv, inv], ignore_index=True)\n",
    "al_inv.drop('Stock Lvl', inplace=True)\n",
    "al_inv.columns = ['ItemCode', 'ItemCodeDesc', 'Stock Lvl', 'O/H', 'UPC', 'spCost']"
   ]
  },
  {
   "cell_type": "code",
   "execution_count": 59,
   "metadata": {},
   "outputs": [
    {
     "data": {
      "text/plain": [
       "Index(['ItemCode', 'ItemCodeDesc', 'Stock Lvl', 'OnHand Customer',\n",
       "       'AliasItemNo', 'StandardUnitPrice'],\n",
       "      dtype='object')"
      ]
     },
     "execution_count": 59,
     "metadata": {},
     "output_type": "execute_result"
    },
    {
     "ename": "",
     "evalue": "",
     "output_type": "error",
     "traceback": [
      "\u001b[1;31mThe Kernel crashed while executing code in the current cell or a previous cell. \n",
      "\u001b[1;31mPlease review the code in the cell(s) to identify a possible cause of the failure. \n",
      "\u001b[1;31mClick <a href='https://aka.ms/vscodeJupyterKernelCrash'>here</a> for more info. \n",
      "\u001b[1;31mView Jupyter <a href='command:jupyter.viewOutput'>log</a> for further details."
     ]
    }
   ],
   "source": []
  },
  {
   "cell_type": "code",
   "execution_count": 44,
   "metadata": {},
   "outputs": [
    {
     "name": "stdout",
     "output_type": "stream",
     "text": [
      "WARNING *** file size (5275520) not 512 + multiple of sector size (512)\n"
     ]
    }
   ],
   "source": [
    "by_inv = pd.read_excel('inv_data/BY_InventoryListAll.xls', skiprows=3)"
   ]
  },
  {
   "cell_type": "code",
   "execution_count": 52,
   "metadata": {},
   "outputs": [
    {
     "data": {
      "text/plain": [
       "Index(['Item Name', 'Unnamed: 1', 'Color', 'Class', 'O/H', 'Unnamed: 5',\n",
       "       'Price', 'Barcode'],\n",
       "      dtype='object')"
      ]
     },
     "execution_count": 52,
     "metadata": {},
     "output_type": "execute_result"
    }
   ],
   "source": [
    "by_inv.columns"
   ]
  },
  {
   "cell_type": "code",
   "execution_count": 54,
   "metadata": {},
   "outputs": [],
   "source": [
    "by_inv.drop(columns=['Unnamed: 1','Unnamed: 5'], inplace=True)"
   ]
  },
  {
   "cell_type": "code",
   "execution_count": 58,
   "metadata": {},
   "outputs": [
    {
     "data": {
      "text/html": [
       "<div>\n",
       "<style scoped>\n",
       "    .dataframe tbody tr th:only-of-type {\n",
       "        vertical-align: middle;\n",
       "    }\n",
       "\n",
       "    .dataframe tbody tr th {\n",
       "        vertical-align: top;\n",
       "    }\n",
       "\n",
       "    .dataframe thead th {\n",
       "        text-align: right;\n",
       "    }\n",
       "</style>\n",
       "<table border=\"1\" class=\"dataframe\">\n",
       "  <thead>\n",
       "    <tr style=\"text-align: right;\">\n",
       "      <th></th>\n",
       "      <th>Item Name</th>\n",
       "      <th>Color</th>\n",
       "      <th>Class</th>\n",
       "      <th>O/H</th>\n",
       "      <th>Barcode</th>\n",
       "      <th>Price</th>\n",
       "    </tr>\n",
       "  </thead>\n",
       "  <tbody>\n",
       "    <tr>\n",
       "      <th>0</th>\n",
       "      <td>134 CANNA</td>\n",
       "      <td>1</td>\n",
       "      <td>LC</td>\n",
       "      <td>112</td>\n",
       "      <td>885160294489</td>\n",
       "      <td>26.50</td>\n",
       "    </tr>\n",
       "    <tr>\n",
       "      <th>1</th>\n",
       "      <td>134 CANNA</td>\n",
       "      <td>1B</td>\n",
       "      <td>LC</td>\n",
       "      <td>93</td>\n",
       "      <td>885160294496</td>\n",
       "      <td>26.50</td>\n",
       "    </tr>\n",
       "    <tr>\n",
       "      <th>2</th>\n",
       "      <td>134 CANNA</td>\n",
       "      <td>4N274</td>\n",
       "      <td>LC</td>\n",
       "      <td>22</td>\n",
       "      <td>885160294533</td>\n",
       "      <td>26.50</td>\n",
       "    </tr>\n",
       "    <tr>\n",
       "      <th>3</th>\n",
       "      <td>134 CANNA</td>\n",
       "      <td>BT4007</td>\n",
       "      <td>LC</td>\n",
       "      <td>22</td>\n",
       "      <td>885160294540</td>\n",
       "      <td>26.50</td>\n",
       "    </tr>\n",
       "    <tr>\n",
       "      <th>4</th>\n",
       "      <td>134 CANNA</td>\n",
       "      <td>F2842</td>\n",
       "      <td>LC</td>\n",
       "      <td>47</td>\n",
       "      <td>885160294502</td>\n",
       "      <td>26.50</td>\n",
       "    </tr>\n",
       "    <tr>\n",
       "      <th>...</th>\n",
       "      <td>...</td>\n",
       "      <td>...</td>\n",
       "      <td>...</td>\n",
       "      <td>...</td>\n",
       "      <td>...</td>\n",
       "      <td>...</td>\n",
       "    </tr>\n",
       "    <tr>\n",
       "      <th>31785</th>\n",
       "      <td>ZZR LOA</td>\n",
       "      <td>SNOW</td>\n",
       "      <td>LC</td>\n",
       "      <td>0</td>\n",
       "      <td>885160246532</td>\n",
       "      <td>20.95</td>\n",
       "    </tr>\n",
       "    <tr>\n",
       "      <th>31786</th>\n",
       "      <td>ZZR LOA</td>\n",
       "      <td>SP1B/30</td>\n",
       "      <td>LC</td>\n",
       "      <td>0</td>\n",
       "      <td>885160246464</td>\n",
       "      <td>20.95</td>\n",
       "    </tr>\n",
       "    <tr>\n",
       "      <th>31787</th>\n",
       "      <td>ZZR LOA</td>\n",
       "      <td>SP427</td>\n",
       "      <td>LC</td>\n",
       "      <td>0</td>\n",
       "      <td>885160252335</td>\n",
       "      <td>20.95</td>\n",
       "    </tr>\n",
       "    <tr>\n",
       "      <th>31788</th>\n",
       "      <td>ZZR LOA</td>\n",
       "      <td>SP430</td>\n",
       "      <td>LC</td>\n",
       "      <td>0</td>\n",
       "      <td>885160257224</td>\n",
       "      <td>20.95</td>\n",
       "    </tr>\n",
       "    <tr>\n",
       "      <th>31789</th>\n",
       "      <td>ZZR LOA</td>\n",
       "      <td>YELLOW API</td>\n",
       "      <td>LC</td>\n",
       "      <td>0</td>\n",
       "      <td>885160246471</td>\n",
       "      <td>20.95</td>\n",
       "    </tr>\n",
       "  </tbody>\n",
       "</table>\n",
       "<p>31790 rows × 6 columns</p>\n",
       "</div>"
      ],
      "text/plain": [
       "       Item Name       Color Class  O/H       Barcode  Price\n",
       "0      134 CANNA           1    LC  112  885160294489  26.50\n",
       "1      134 CANNA          1B    LC   93  885160294496  26.50\n",
       "2      134 CANNA       4N274    LC   22  885160294533  26.50\n",
       "3      134 CANNA      BT4007    LC   22  885160294540  26.50\n",
       "4      134 CANNA       F2842    LC   47  885160294502  26.50\n",
       "...          ...         ...   ...  ...           ...    ...\n",
       "31785    ZZR LOA        SNOW    LC    0  885160246532  20.95\n",
       "31786    ZZR LOA     SP1B/30    LC    0  885160246464  20.95\n",
       "31787    ZZR LOA       SP427    LC    0  885160252335  20.95\n",
       "31788    ZZR LOA       SP430    LC    0  885160257224  20.95\n",
       "31789    ZZR LOA  YELLOW API    LC    0  885160246471  20.95\n",
       "\n",
       "[31790 rows x 6 columns]"
      ]
     },
     "execution_count": 58,
     "metadata": {},
     "output_type": "execute_result"
    }
   ],
   "source": [
    "by_inv[['Item Name', 'Color', 'Class', 'O/H', 'Barcode', 'Price']]"
   ]
  },
  {
   "cell_type": "code",
   "execution_count": null,
   "metadata": {},
   "outputs": [],
   "source": []
  }
 ],
 "metadata": {
  "kernelspec": {
   "display_name": "pyside6",
   "language": "python",
   "name": "python3"
  },
  "language_info": {
   "codemirror_mode": {
    "name": "ipython",
    "version": 3
   },
   "file_extension": ".py",
   "mimetype": "text/x-python",
   "name": "python",
   "nbconvert_exporter": "python",
   "pygments_lexer": "ipython3",
   "version": "3.10.13"
  }
 },
 "nbformat": 4,
 "nbformat_minor": 2
}
