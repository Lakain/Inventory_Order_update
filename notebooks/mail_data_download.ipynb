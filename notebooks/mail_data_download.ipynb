{
 "cells": [
  {
   "cell_type": "code",
   "execution_count": 23,
   "metadata": {},
   "outputs": [],
   "source": [
    "if temp['OUTRE']['SUBJECT'] and temp['OUTRE']['FROM']:\n",
    "    print(temp['AL'])"
   ]
  },
  {
   "cell_type": "code",
   "execution_count": 1,
   "metadata": {},
   "outputs": [],
   "source": [
    "import email\n",
    "import imaplib\n",
    "import os, json, datetime\n",
    "\n",
    "root_path = ''"
   ]
  },
  {
   "cell_type": "code",
   "execution_count": 2,
   "metadata": {},
   "outputs": [],
   "source": [
    "with open(root_path+'appdata/gmail_auth.json') as f:\n",
    "    temp = json.load(f)\n",
    "    email_user = temp['username']\n",
    "    email_password = temp['password']"
   ]
  },
  {
   "cell_type": "code",
   "execution_count": 3,
   "metadata": {},
   "outputs": [],
   "source": [
    "attachment_dir = 'attachments'\n",
    "\n",
    "if not os.path.isdir(attachment_dir):\n",
    "    os.makedirs(attachment_dir)"
   ]
  },
  {
   "cell_type": "code",
   "execution_count": 4,
   "metadata": {},
   "outputs": [
    {
     "data": {
      "text/plain": [
       "('OK', [b'270775'])"
      ]
     },
     "execution_count": 4,
     "metadata": {},
     "output_type": "execute_result"
    }
   ],
   "source": [
    "# Set up the IMAP connection\n",
    "mail = imaplib.IMAP4_SSL('imap.gmail.com')\n",
    "\n",
    "# Authenticate\n",
    "mail.login(email_user, email_password)\n",
    "\n",
    "# Select the inbox\n",
    "mail.select('\"[Gmail]/All Mail\"')\n",
    "# mail.select('Company/Outre')"
   ]
  },
  {
   "cell_type": "code",
   "execution_count": 10,
   "metadata": {},
   "outputs": [
    {
     "ename": "error",
     "evalue": "SEARCH command error: BAD [b'Could not parse command']",
     "output_type": "error",
     "traceback": [
      "\u001b[1;31m---------------------------------------------------------------------------\u001b[0m",
      "\u001b[1;31merror\u001b[0m                                     Traceback (most recent call last)",
      "Cell \u001b[1;32mIn[10], line 1\u001b[0m\n\u001b[1;32m----> 1\u001b[0m status, messages \u001b[38;5;241m=\u001b[39m \u001b[43mmail\u001b[49m\u001b[38;5;241;43m.\u001b[39;49m\u001b[43msearch\u001b[49m\u001b[43m(\u001b[49m\u001b[38;5;28;43;01mNone\u001b[39;49;00m\u001b[43m,\u001b[49m\u001b[38;5;124;43m'\u001b[39;49m\u001b[38;5;124;43mSUBJECT   FROM kjo@aliciaintl.com\u001b[39;49m\u001b[38;5;124;43m'\u001b[39;49m\u001b[43m)\u001b[49m\n\u001b[0;32m      3\u001b[0m \u001b[38;5;28;01mif\u001b[39;00m status \u001b[38;5;241m==\u001b[39m \u001b[38;5;124m'\u001b[39m\u001b[38;5;124mOK\u001b[39m\u001b[38;5;124m'\u001b[39m:\n\u001b[0;32m      4\u001b[0m     \u001b[38;5;66;03m# Convert messages list from bytes to list of email IDs\u001b[39;00m\n\u001b[0;32m      5\u001b[0m     messages \u001b[38;5;241m=\u001b[39m messages[\u001b[38;5;241m0\u001b[39m]\u001b[38;5;241m.\u001b[39msplit()\n",
      "File \u001b[1;32mc:\\Users\\amasc\\anaconda3\\envs\\pyside6\\lib\\imaplib.py:734\u001b[0m, in \u001b[0;36mIMAP4.search\u001b[1;34m(self, charset, *criteria)\u001b[0m\n\u001b[0;32m    732\u001b[0m     typ, dat \u001b[38;5;241m=\u001b[39m \u001b[38;5;28mself\u001b[39m\u001b[38;5;241m.\u001b[39m_simple_command(name, \u001b[38;5;124m'\u001b[39m\u001b[38;5;124mCHARSET\u001b[39m\u001b[38;5;124m'\u001b[39m, charset, \u001b[38;5;241m*\u001b[39mcriteria)\n\u001b[0;32m    733\u001b[0m \u001b[38;5;28;01melse\u001b[39;00m:\n\u001b[1;32m--> 734\u001b[0m     typ, dat \u001b[38;5;241m=\u001b[39m \u001b[38;5;28;43mself\u001b[39;49m\u001b[38;5;241;43m.\u001b[39;49m\u001b[43m_simple_command\u001b[49m\u001b[43m(\u001b[49m\u001b[43mname\u001b[49m\u001b[43m,\u001b[49m\u001b[43m \u001b[49m\u001b[38;5;241;43m*\u001b[39;49m\u001b[43mcriteria\u001b[49m\u001b[43m)\u001b[49m\n\u001b[0;32m    735\u001b[0m \u001b[38;5;28;01mreturn\u001b[39;00m \u001b[38;5;28mself\u001b[39m\u001b[38;5;241m.\u001b[39m_untagged_response(typ, dat, name)\n",
      "File \u001b[1;32mc:\\Users\\amasc\\anaconda3\\envs\\pyside6\\lib\\imaplib.py:1230\u001b[0m, in \u001b[0;36mIMAP4._simple_command\u001b[1;34m(self, name, *args)\u001b[0m\n\u001b[0;32m   1228\u001b[0m \u001b[38;5;28;01mdef\u001b[39;00m \u001b[38;5;21m_simple_command\u001b[39m(\u001b[38;5;28mself\u001b[39m, name, \u001b[38;5;241m*\u001b[39margs):\n\u001b[1;32m-> 1230\u001b[0m     \u001b[38;5;28;01mreturn\u001b[39;00m \u001b[38;5;28;43mself\u001b[39;49m\u001b[38;5;241;43m.\u001b[39;49m\u001b[43m_command_complete\u001b[49m\u001b[43m(\u001b[49m\u001b[43mname\u001b[49m\u001b[43m,\u001b[49m\u001b[43m \u001b[49m\u001b[38;5;28;43mself\u001b[39;49m\u001b[38;5;241;43m.\u001b[39;49m\u001b[43m_command\u001b[49m\u001b[43m(\u001b[49m\u001b[43mname\u001b[49m\u001b[43m,\u001b[49m\u001b[43m \u001b[49m\u001b[38;5;241;43m*\u001b[39;49m\u001b[43margs\u001b[49m\u001b[43m)\u001b[49m\u001b[43m)\u001b[49m\n",
      "File \u001b[1;32mc:\\Users\\amasc\\anaconda3\\envs\\pyside6\\lib\\imaplib.py:1055\u001b[0m, in \u001b[0;36mIMAP4._command_complete\u001b[1;34m(self, name, tag)\u001b[0m\n\u001b[0;32m   1053\u001b[0m     \u001b[38;5;28mself\u001b[39m\u001b[38;5;241m.\u001b[39m_check_bye()\n\u001b[0;32m   1054\u001b[0m \u001b[38;5;28;01mif\u001b[39;00m typ \u001b[38;5;241m==\u001b[39m \u001b[38;5;124m'\u001b[39m\u001b[38;5;124mBAD\u001b[39m\u001b[38;5;124m'\u001b[39m:\n\u001b[1;32m-> 1055\u001b[0m     \u001b[38;5;28;01mraise\u001b[39;00m \u001b[38;5;28mself\u001b[39m\u001b[38;5;241m.\u001b[39merror(\u001b[38;5;124m'\u001b[39m\u001b[38;5;132;01m%s\u001b[39;00m\u001b[38;5;124m command error: \u001b[39m\u001b[38;5;132;01m%s\u001b[39;00m\u001b[38;5;124m \u001b[39m\u001b[38;5;132;01m%s\u001b[39;00m\u001b[38;5;124m'\u001b[39m \u001b[38;5;241m%\u001b[39m (name, typ, data))\n\u001b[0;32m   1056\u001b[0m \u001b[38;5;28;01mreturn\u001b[39;00m typ, data\n",
      "\u001b[1;31merror\u001b[0m: SEARCH command error: BAD [b'Could not parse command']"
     ]
    }
   ],
   "source": [
    "status, messages = mail.search(None,'SUBJECT  FROM kjo@aliciaintl.com')\n",
    "\n",
    "if status == 'OK':\n",
    "    # Convert messages list from bytes to list of email IDs\n",
    "    messages = messages[0].split()"
   ]
  },
  {
   "cell_type": "code",
   "execution_count": 9,
   "metadata": {},
   "outputs": [
    {
     "ename": "IndexError",
     "evalue": "list index out of range",
     "output_type": "error",
     "traceback": [
      "\u001b[1;31m---------------------------------------------------------------------------\u001b[0m",
      "\u001b[1;31mIndexError\u001b[0m                                Traceback (most recent call last)",
      "Cell \u001b[1;32mIn[9], line 3\u001b[0m\n\u001b[0;32m      1\u001b[0m \u001b[38;5;28;01mif\u001b[39;00m status \u001b[38;5;241m==\u001b[39m \u001b[38;5;124m'\u001b[39m\u001b[38;5;124mOK\u001b[39m\u001b[38;5;124m'\u001b[39m:\n\u001b[0;32m      2\u001b[0m     \u001b[38;5;66;03m# Convert messages list from bytes to list of email IDs\u001b[39;00m\n\u001b[1;32m----> 3\u001b[0m     messages \u001b[38;5;241m=\u001b[39m \u001b[43mmessages\u001b[49m\u001b[43m[\u001b[49m\u001b[38;5;241;43m0\u001b[39;49m\u001b[43m]\u001b[49m\u001b[38;5;241m.\u001b[39msplit()\n\u001b[0;32m      5\u001b[0m     \u001b[38;5;28;01mfor\u001b[39;00m message \u001b[38;5;129;01min\u001b[39;00m messages:\n\u001b[0;32m      6\u001b[0m         \u001b[38;5;66;03m# Fetch the email message by ID\u001b[39;00m\n\u001b[0;32m      7\u001b[0m         res, msg \u001b[38;5;241m=\u001b[39m mail\u001b[38;5;241m.\u001b[39mfetch(message, \u001b[38;5;124m'\u001b[39m\u001b[38;5;124m(RFC822)\u001b[39m\u001b[38;5;124m'\u001b[39m)\n",
      "\u001b[1;31mIndexError\u001b[0m: list index out of range"
     ]
    }
   ],
   "source": [
    "if status == 'OK':\n",
    "    # Convert messages list from bytes to list of email IDs\n",
    "    messages = messages[0].split()\n",
    "\n",
    "    for message in messages:\n",
    "        # Fetch the email message by ID\n",
    "        res, msg = mail.fetch(message, '(RFC822)')\n",
    "        for response in msg:\n",
    "            if isinstance(response, tuple):\n",
    "                # Parse the raw email message in response\n",
    "                decoded_msg = email.message_from_bytes(response[1])\n",
    "\n",
    "                # Iterate over each message part\n",
    "                for part in decoded_msg.walk():\n",
    "                    print(part)\n",
    "                    print('*'*100)\n",
    "                    # Check if the content is multipart\n",
    "                    if part.get_content_maintype() == 'multipart':\n",
    "                        continue\n",
    "\n",
    "                    # Check if there is an attachment\n",
    "                    if part.get('Content-Disposition'):\n",
    "                        # Download attachment\n",
    "                        filename = part.get_filename()\n",
    "                        if filename:\n",
    "                            filepath = os.path.join(attachment_dir, filename)\n",
    "                            with open(filepath, 'wb') as f:\n",
    "                                f.write(part.get_payload(decode=True))\n",
    "                            print(f'Downloaded {filename}')\n",
    "                    \n",
    "else:\n",
    "    print(\"Failed to retrieve emails.\")\n",
    "\n",
    "mail.close()\n",
    "mail.logout()"
   ]
  },
  {
   "cell_type": "markdown",
   "metadata": {},
   "source": [
    "# AL mail update"
   ]
  },
  {
   "cell_type": "code",
   "execution_count": null,
   "metadata": {},
   "outputs": [],
   "source": [
    "root_path = ''\n",
    "\n",
    "with open(root_path+'appdata/gmail_auth.json') as f:\n",
    "    temp = json.load(f)\n",
    "    email_user = temp['username']\n",
    "    email_password = temp['password']\n",
    "\n",
    "attachment_dir = 'attachments'\n",
    "\n",
    "if not os.path.isdir(attachment_dir):\n",
    "    os.makedirs(attachment_dir)\n",
    "\n",
    "# Set up the IMAP connection\n",
    "mail = imaplib.IMAP4_SSL('imap.gmail.com')\n",
    "\n",
    "# Authenticate\n",
    "mail.login(email_user, email_password)\n",
    "\n",
    "# Select the inbox\n",
    "mail.select('\"[Gmail]/All Mail\"')\n",
    "\n",
    "status, messages = mail.search(None,'SUBJECT inventory FROM kjo@aliciaintl.com')\n",
    "\n",
    "if status == 'OK':\n",
    "    # Convert messages list from bytes to list of email IDs\n",
    "    messages = messages[0].split()\n",
    "\n",
    "    res, msg = mail.fetch(messages[-1], '(RFC822)')\n",
    "\n",
    "    decoded_msg = email.message_from_bytes(msg[0][1])\n",
    "    date_recieved = datetime.datetime.strptime(decoded_msg.get('Date'), \"%a, %d %b %Y %X %z\")\n",
    "\n",
    "    for part in decoded_msg.walk():\n",
    "        if part.get('Content-Disposition'):\n",
    "            filename = part.get_filename()\n",
    "            if 'brs' in filename:\n",
    "                with open(root_path+'attachments/AL_brs inv.xls', 'wb') as f:\n",
    "                    f.write(part.get_payload(decode=True))\n",
    "                print(f'{filename} downloaded')\n",
    "            elif 'inv' in filename:\n",
    "                with open(root_path+'attachments/AL_inv.xls', 'wb') as f:\n",
    "                    f.write(part.get_payload(decode=True))\n",
    "                print(f'{filename} downloaded')\n",
    "else:\n",
    "    print(\"Failed to retrieve emails.\")\n",
    "\n",
    "mail.close()\n",
    "mail.logout()"
   ]
  },
  {
   "cell_type": "markdown",
   "metadata": {},
   "source": [
    "# VF mail update"
   ]
  },
  {
   "cell_type": "code",
   "execution_count": null,
   "metadata": {},
   "outputs": [],
   "source": [
    "import email\n",
    "import imaplib\n",
    "import os, json, datetime\n",
    "\n",
    "root_path = ''\n",
    "\n",
    "with open(root_path+'appdata/gmail_auth.json') as f:\n",
    "    temp = json.load(f)\n",
    "    email_user = temp['username']\n",
    "    email_password = temp['password']\n",
    "\n",
    "attachment_dir = 'attachments'\n",
    "\n",
    "if not os.path.isdir(attachment_dir):\n",
    "    os.makedirs(attachment_dir)\n",
    "\n",
    "# Set up the IMAP connection\n",
    "mail = imaplib.IMAP4_SSL('imap.gmail.com')\n",
    "\n",
    "# Authenticate\n",
    "mail.login(email_user, email_password)\n",
    "\n",
    "# Select the inbox\n",
    "mail.select('\"[Gmail]/All Mail\"')\n",
    "# mail.select('Company/Outre')\n",
    "\n",
    "status, messages = mail.search(None,'SUBJECT inventory FROM no-reply@amekor.com')\n",
    "\n",
    "if status == 'OK':\n",
    "    # Convert messages list from bytes to list of email IDs\n",
    "    messages = messages[0].split()\n",
    "\n",
    "    res, msg = mail.fetch(messages[-1], '(RFC822)')\n",
    "\n",
    "    decoded_msg = email.message_from_bytes(msg[0][1])\n",
    "    date_recieved = datetime.datetime.strptime(decoded_msg.get('Date'), \"%a, %d %b %Y %X %z\")\n",
    "\n",
    "    for part in decoded_msg.walk():\n",
    "        if part.get('Content-Disposition'):\n",
    "            filename = part.get_filename()\n",
    "            with open(root_path+'attachments/VF_Inventory.xls', 'wb') as f:\n",
    "                f.write(part.get_payload(decode=True))\n",
    "            print(f'{filename} downloaded')\n",
    "else:\n",
    "    print(\"Failed to retrieve emails.\")\n",
    "\n",
    "mail.close()\n",
    "mail.logout()"
   ]
  }
 ],
 "metadata": {
  "kernelspec": {
   "display_name": "pyside6",
   "language": "python",
   "name": "python3"
  },
  "language_info": {
   "codemirror_mode": {
    "name": "ipython",
    "version": 3
   },
   "file_extension": ".py",
   "mimetype": "text/x-python",
   "name": "python",
   "nbconvert_exporter": "python",
   "pygments_lexer": "ipython3",
   "version": "3.10.13"
  }
 },
 "nbformat": 4,
 "nbformat_minor": 2
}
