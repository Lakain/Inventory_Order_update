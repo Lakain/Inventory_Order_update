{
 "cells": [
  {
   "cell_type": "code",
   "execution_count": null,
   "metadata": {},
   "outputs": [],
   "source": [
    "import email\n",
    "import imaplib\n",
    "import os, json, datetime\n",
    "\n",
    "root_path = ''"
   ]
  },
  {
   "cell_type": "code",
   "execution_count": null,
   "metadata": {},
   "outputs": [],
   "source": [
    "with open(root_path+'appdata/gmail_auth.json') as f:\n",
    "    temp = json.load(f)\n",
    "    email_user = temp['username']\n",
    "    email_password = temp['password']"
   ]
  },
  {
   "cell_type": "code",
   "execution_count": null,
   "metadata": {},
   "outputs": [],
   "source": [
    "attachment_dir = 'attachments'\n",
    "\n",
    "if not os.path.isdir(attachment_dir):\n",
    "    os.makedirs(attachment_dir)"
   ]
  },
  {
   "cell_type": "code",
   "execution_count": null,
   "metadata": {},
   "outputs": [],
   "source": [
    "# Set up the IMAP connection\n",
    "mail = imaplib.IMAP4_SSL('imap.gmail.com')\n",
    "\n",
    "# Authenticate\n",
    "mail.login(email_user, email_password)\n",
    "\n",
    "# Select the inbox\n",
    "mail.select('\"[Gmail]/All Mail\"')\n",
    "# mail.select('Company/Outre')"
   ]
  },
  {
   "cell_type": "code",
   "execution_count": null,
   "metadata": {},
   "outputs": [],
   "source": [
    "status, messages = mail.search(None,'SUBJECT inventory FROM kjo@aliciaintl.com')\n",
    "\n",
    "if status == 'OK':\n",
    "    # Convert messages list from bytes to list of email IDs\n",
    "    messages = messages[0].split()"
   ]
  },
  {
   "cell_type": "code",
   "execution_count": null,
   "metadata": {},
   "outputs": [],
   "source": [
    "if status == 'OK':\n",
    "    # Convert messages list from bytes to list of email IDs\n",
    "    messages = messages[0].split()\n",
    "\n",
    "    for message in messages:\n",
    "        # Fetch the email message by ID\n",
    "        res, msg = mail.fetch(message, '(RFC822)')\n",
    "        for response in msg:\n",
    "            if isinstance(response, tuple):\n",
    "                # Parse the raw email message in response\n",
    "                decoded_msg = email.message_from_bytes(response[1])\n",
    "\n",
    "                # Iterate over each message part\n",
    "                for part in decoded_msg.walk():\n",
    "                    print(part)\n",
    "                    print('*'*100)\n",
    "                    # Check if the content is multipart\n",
    "                    if part.get_content_maintype() == 'multipart':\n",
    "                        continue\n",
    "\n",
    "                    # Check if there is an attachment\n",
    "                    if part.get('Content-Disposition'):\n",
    "                        # Download attachment\n",
    "                        filename = part.get_filename()\n",
    "                        if filename:\n",
    "                            filepath = os.path.join(attachment_dir, filename)\n",
    "                            with open(filepath, 'wb') as f:\n",
    "                                f.write(part.get_payload(decode=True))\n",
    "                            print(f'Downloaded {filename}')\n",
    "                    \n",
    "else:\n",
    "    print(\"Failed to retrieve emails.\")\n",
    "\n",
    "mail.close()\n",
    "mail.logout()"
   ]
  },
  {
   "cell_type": "markdown",
   "metadata": {},
   "source": [
    "# AL mail update"
   ]
  },
  {
   "cell_type": "code",
   "execution_count": null,
   "metadata": {},
   "outputs": [],
   "source": [
    "root_path = ''\n",
    "\n",
    "with open(root_path+'appdata/gmail_auth.json') as f:\n",
    "    temp = json.load(f)\n",
    "    email_user = temp['username']\n",
    "    email_password = temp['password']\n",
    "\n",
    "attachment_dir = 'attachments'\n",
    "\n",
    "if not os.path.isdir(attachment_dir):\n",
    "    os.makedirs(attachment_dir)\n",
    "\n",
    "# Set up the IMAP connection\n",
    "mail = imaplib.IMAP4_SSL('imap.gmail.com')\n",
    "\n",
    "# Authenticate\n",
    "mail.login(email_user, email_password)\n",
    "\n",
    "# Select the inbox\n",
    "mail.select('\"[Gmail]/All Mail\"')\n",
    "\n",
    "status, messages = mail.search(None,'SUBJECT inventory FROM kjo@aliciaintl.com')\n",
    "\n",
    "if status == 'OK':\n",
    "    # Convert messages list from bytes to list of email IDs\n",
    "    messages = messages[0].split()\n",
    "\n",
    "    res, msg = mail.fetch(messages[-1], '(RFC822)')\n",
    "\n",
    "    decoded_msg = email.message_from_bytes(msg[0][1])\n",
    "    date_recieved = datetime.datetime.strptime(decoded_msg.get('Date'), \"%a, %d %b %Y %X %z\")\n",
    "\n",
    "    for part in decoded_msg.walk():\n",
    "        if part.get('Content-Disposition'):\n",
    "            filename = part.get_filename()\n",
    "            if 'brs' in filename:\n",
    "                with open(root_path+'attachments/AL_brs inv.xls', 'wb') as f:\n",
    "                    f.write(part.get_payload(decode=True))\n",
    "                print(f'{filename} downloaded')\n",
    "            elif 'inv' in filename:\n",
    "                with open(root_path+'attachments/AL_inv.xls', 'wb') as f:\n",
    "                    f.write(part.get_payload(decode=True))\n",
    "                print(f'{filename} downloaded')\n",
    "else:\n",
    "    print(\"Failed to retrieve emails.\")\n",
    "\n",
    "mail.close()\n",
    "mail.logout()"
   ]
  },
  {
   "cell_type": "markdown",
   "metadata": {},
   "source": [
    "# VF mail update"
   ]
  },
  {
   "cell_type": "code",
   "execution_count": null,
   "metadata": {},
   "outputs": [],
   "source": [
    "import email\n",
    "import imaplib\n",
    "import os, json, datetime\n",
    "\n",
    "root_path = ''\n",
    "\n",
    "with open(root_path+'appdata/gmail_auth.json') as f:\n",
    "    temp = json.load(f)\n",
    "    email_user = temp['username']\n",
    "    email_password = temp['password']\n",
    "\n",
    "attachment_dir = 'attachments'\n",
    "\n",
    "if not os.path.isdir(attachment_dir):\n",
    "    os.makedirs(attachment_dir)\n",
    "\n",
    "# Set up the IMAP connection\n",
    "mail = imaplib.IMAP4_SSL('imap.gmail.com')\n",
    "\n",
    "# Authenticate\n",
    "mail.login(email_user, email_password)\n",
    "\n",
    "# Select the inbox\n",
    "mail.select('\"[Gmail]/All Mail\"')\n",
    "# mail.select('Company/Outre')\n",
    "\n",
    "status, messages = mail.search(None,'SUBJECT inventory FROM no-reply@amekor.com')\n",
    "\n",
    "if status == 'OK':\n",
    "    # Convert messages list from bytes to list of email IDs\n",
    "    messages = messages[0].split()\n",
    "\n",
    "    res, msg = mail.fetch(messages[-1], '(RFC822)')\n",
    "\n",
    "    decoded_msg = email.message_from_bytes(msg[0][1])\n",
    "    date_recieved = datetime.datetime.strptime(decoded_msg.get('Date'), \"%a, %d %b %Y %X %z\")\n",
    "\n",
    "    for part in decoded_msg.walk():\n",
    "        if part.get('Content-Disposition'):\n",
    "            filename = part.get_filename()\n",
    "            with open(root_path+'attachments/VF_Inventory.xls', 'wb') as f:\n",
    "                f.write(part.get_payload(decode=True))\n",
    "            print(f'{filename} downloaded')\n",
    "else:\n",
    "    print(\"Failed to retrieve emails.\")\n",
    "\n",
    "mail.close()\n",
    "mail.logout()"
   ]
  }
 ],
 "metadata": {
  "kernelspec": {
   "display_name": "pyside6",
   "language": "python",
   "name": "python3"
  },
  "language_info": {
   "codemirror_mode": {
    "name": "ipython",
    "version": 3
   },
   "file_extension": ".py",
   "mimetype": "text/x-python",
   "name": "python",
   "nbconvert_exporter": "python",
   "pygments_lexer": "ipython3",
   "version": "3.10.13"
  }
 },
 "nbformat": 4,
 "nbformat_minor": 2
}
